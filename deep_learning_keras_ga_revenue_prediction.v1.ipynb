{
  "nbformat": 4,
  "nbformat_minor": 0,
  "metadata": {
    "colab": {
      "name": "Copy of  WorkingCopydeep-learning-keras-ga-revenue-prediction.ipynb",
      "version": "0.3.2",
      "provenance": [],
      "collapsed_sections": [
        "9EVglgsPgfR5",
        "JG-orYidgfR8",
        "vqylfAPFgfSA",
        "Oly6SDYggfSA",
        "7YXnXP6IgfSE",
        "xYvrYGZVgfSK",
        "HIc1xULIgfSQ",
        "_NdQq63MgfSU",
        "fUC3jMoigfSU",
        "QbDQlTacgfSX",
        "ya1IzcoigfSd",
        "95Md2f8RgfSl",
        "Onc4ass1gfSs",
        "NUBwKWWTgfS2",
        "jRYwAejKgfS8"
      ],
      "include_colab_link": true
    },
    "kernelspec": {
      "display_name": "Python 3",
      "language": "python",
      "name": "python3"
    },
    "accelerator": "GPU"
  },
  "cells": [
    {
      "cell_type": "markdown",
      "metadata": {
        "id": "view-in-github",
        "colab_type": "text"
      },
      "source": [
        "[View in Colaboratory](https://colab.research.google.com/github/sachinpatkar/ga_revenue_prediction/blob/master/deep_learning_keras_ga_revenue_prediction.v1.ipynb)"
      ]
    },
    {
      "metadata": {
        "id": "iWzQ3b18gfRc",
        "colab_type": "text"
      },
      "cell_type": "markdown",
      "source": [
        "## Deep Learning with Keras - Google Analytics Customer Revenue Prediction\n",
        "\n",
        "*   List item\n",
        "*   List item\n",
        "\n",
        "\n",
        "* Note: this is just a starting point, there's a lot of work to be done.\n",
        "* A begginer version with [LGBM](https://www.kaggle.com/dimitreoliveira/lgbm-google-store-revenue-prediction)"
      ]
    },
    {
      "metadata": {
        "id": "PtIKTJ9DgfRf",
        "colab_type": "text"
      },
      "cell_type": "markdown",
      "source": [
        "### Loading data google drive"
      ]
    },
    {
      "metadata": {
        "id": "TgJ6M1fo3qVk",
        "colab_type": "code",
        "colab": {
          "base_uri": "https://localhost:8080/",
          "height": 187
        },
        "outputId": "36d30362-de68-4687-928f-735e1c44a894"
      },
      "cell_type": "code",
      "source": [
        "ls -al"
      ],
      "execution_count": 0,
      "outputs": [
        {
          "output_type": "stream",
          "text": [
            "total 2916748\n",
            "drwxr-xr-x 1 root root       4096 Sep 22 20:27 \u001b[0m\u001b[01;34m.\u001b[0m/\n",
            "drwxr-xr-x 1 root root       4096 Sep 22 20:21 \u001b[01;34m..\u001b[0m/\n",
            "-rw-r--r-- 1 root root  121693383 Sep 22 20:26 all.zip\n",
            "drwxr-xr-x 4 root root       4096 Sep 19 23:48 \u001b[01;34m.config\u001b[0m/\n",
            "drwxr-xr-x 2 root root       4096 Sep 20 00:09 \u001b[01;34msample_data\u001b[0m/\n",
            "---------- 1 root root   14739065 Sep 11 16:45 sample_submission.csv\n",
            "---------- 1 root root 1346845550 Sep 11 16:45 test.csv\n",
            "---------- 1 root root 1503430926 Sep 11 16:45 train.csv\n",
            "-rw-r--r-- 1 root root       3723 Sep 22 20:26 wget-log\n"
          ],
          "name": "stdout"
        }
      ]
    },
    {
      "metadata": {
        "id": "CsjmfJMoirB_",
        "colab_type": "code",
        "colab": {
          "base_uri": "https://localhost:8080/",
          "height": 51
        },
        "outputId": "c90c00ac-e7a5-4d8e-9d36-28ef2445f9fd"
      },
      "cell_type": "code",
      "source": [
        "!wget https://www.dropbox.com/s/4p74dtbpdf54o5p/all.zip\n"
      ],
      "execution_count": 0,
      "outputs": [
        {
          "output_type": "stream",
          "text": [
            "\n",
            "Redirecting output to ‘wget-log.1’.\n"
          ],
          "name": "stdout"
        }
      ]
    },
    {
      "metadata": {
        "id": "AHs1yeREjVEG",
        "colab_type": "code",
        "colab": {
          "base_uri": "https://localhost:8080/",
          "height": 170
        },
        "outputId": "3f5b732d-0d6e-487b-9471-5b44e9b7fcdf"
      },
      "cell_type": "code",
      "source": [
        "ls -l"
      ],
      "execution_count": 0,
      "outputs": [
        {
          "output_type": "stream",
          "text": [
            "total 3035588\n",
            "-rw-r--r-- 1 root root  121693383 Sep 22 20:26 all.zip\n",
            "-rw-r--r-- 1 root root  121693383 Sep 22 20:45 all.zip.1\n",
            "drwxr-xr-x 2 root root       4096 Sep 20 00:09 \u001b[0m\u001b[01;34msample_data\u001b[0m/\n",
            "---------- 1 root root   14739065 Sep 11 16:45 sample_submission.csv\n",
            "---------- 1 root root 1346845550 Sep 11 16:45 test.csv\n",
            "---------- 1 root root 1503430926 Sep 11 16:45 train.csv\n",
            "-rw-r--r-- 1 root root       3723 Sep 22 20:26 wget-log\n",
            "-rw-r--r-- 1 root root       3647 Sep 22 20:45 wget-log.1\n"
          ],
          "name": "stdout"
        }
      ]
    },
    {
      "metadata": {
        "id": "VbvL2R3GjYrG",
        "colab_type": "code",
        "colab": {
          "base_uri": "https://localhost:8080/",
          "height": 102
        },
        "outputId": "986c90d9-c4c7-411b-da3f-47805958f8c8"
      },
      "cell_type": "code",
      "source": [
        "!unzip 'all.zip'"
      ],
      "execution_count": 0,
      "outputs": [
        {
          "output_type": "stream",
          "text": [
            "Archive:  all.zip\n",
            "replace train.csv? [y]es, [n]o, [A]ll, [N]one, [r]ename: A\n",
            "  inflating: train.csv               \n",
            "  inflating: sample_submission.csv   \n",
            "  inflating: test.csv                \n"
          ],
          "name": "stdout"
        }
      ]
    },
    {
      "metadata": {
        "id": "O1XZdbAfjrOO",
        "colab_type": "code",
        "colab": {
          "base_uri": "https://localhost:8080/",
          "height": 34
        },
        "outputId": "d5271ac6-8a3d-431a-8359-7b5a648de0bc"
      },
      "cell_type": "code",
      "source": [
        "pwd"
      ],
      "execution_count": 0,
      "outputs": [
        {
          "output_type": "execute_result",
          "data": {
            "text/plain": [
              "'/content'"
            ]
          },
          "metadata": {
            "tags": []
          },
          "execution_count": 5
        }
      ]
    },
    {
      "metadata": {
        "id": "dxAKIadTgfRg",
        "colab_type": "code",
        "colab": {
          "base_uri": "https://localhost:8080/",
          "height": 34
        },
        "outputId": "527f9ae2-77aa-4d93-ff54-83a68e8a8ad1"
      },
      "cell_type": "code",
      "source": [
        "import os\n",
        "import json\n",
        "import datetime\n",
        "import numpy as np\n",
        "import pandas as pd\n",
        "import matplotlib.pyplot as plt\n",
        "from pandas.io.json import json_normalize\n",
        "from sklearn import preprocessing\n",
        "from sklearn.model_selection import train_test_split\n",
        "from keras.models import Sequential\n",
        "from keras.layers import Dense, Dropout, BatchNormalization, Activation, Dropout\n",
        "from keras import optimizers\n",
        "\n",
        "%matplotlib inline\n",
        "pd.options.display.max_columns = 999"
      ],
      "execution_count": 0,
      "outputs": [
        {
          "output_type": "stream",
          "text": [
            "Using TensorFlow backend.\n"
          ],
          "name": "stderr"
        }
      ]
    },
    {
      "metadata": {
        "id": "Hf9sR1zqgfRm",
        "colab_type": "text"
      },
      "cell_type": "markdown",
      "source": [
        "### Auxiliar functions"
      ]
    },
    {
      "metadata": {
        "id": "pxmqFA30gfRn",
        "colab_type": "code",
        "colab": {}
      },
      "cell_type": "code",
      "source": [
        "def add_time_features(df):\n",
        "    df['date'] = pd.to_datetime(df['date'], format='%Y%m%d', errors='ignore')\n",
        "    df['year'] = df['date'].apply(lambda x: x.year)\n",
        "    df['month'] = df['date'].apply(lambda x: x.month)\n",
        "    df['day'] = df['date'].apply(lambda x: x.day)\n",
        "    df['weekday'] = df['date'].apply(lambda x: x.weekday())\n",
        "    \n",
        "    return df\n",
        "\n",
        "\n",
        "def plot_metrics(loss, val_loss):\n",
        "    fig, (ax1) = plt.subplots(1, 1, sharex='col', figsize=(20,7))\n",
        "    ax1.plot(loss, label='Train loss')\n",
        "    ax1.plot(val_loss, label='Validation loss')\n",
        "    ax1.legend(loc='best')\n",
        "    ax1.set_title('Loss')\n",
        "    plt.xlabel('Epochs')"
      ],
      "execution_count": 0,
      "outputs": []
    },
    {
      "metadata": {
        "id": "2pdHafYhgfRs",
        "colab_type": "text"
      },
      "cell_type": "markdown",
      "source": [
        "Function to load and convert files borrowed from this [kernel](https://www.kaggle.com/julian3833/1-quick-start-read-csv-and-flatten-json-fields/notebook), thanks!"
      ]
    },
    {
      "metadata": {
        "id": "P3b9MnJEXfJ2",
        "colab_type": "code",
        "colab": {}
      },
      "cell_type": "code",
      "source": [
        "train_csv_path=\"train.csv\"\n",
        "test_csv_path=\"test.csv\""
      ],
      "execution_count": 0,
      "outputs": []
    },
    {
      "metadata": {
        "id": "TFcdvR3p5g_r",
        "colab_type": "code",
        "colab": {
          "base_uri": "https://localhost:8080/",
          "height": 221
        },
        "outputId": "25859fee-4be9-4c2b-a614-a45635818d85"
      },
      "cell_type": "code",
      "source": [
        "ls -al"
      ],
      "execution_count": 0,
      "outputs": [
        {
          "output_type": "stream",
          "text": [
            "total 3035600\n",
            "drwxr-xr-x 1 root root       4096 Sep 22 21:01 \u001b[0m\u001b[01;34m.\u001b[0m/\n",
            "drwxr-xr-x 1 root root       4096 Sep 22 20:21 \u001b[01;34m..\u001b[0m/\n",
            "-rw-r--r-- 1 root root  121693383 Sep 22 20:26 all.zip\n",
            "-rw-r--r-- 1 root root  121693383 Sep 22 20:45 all.zip.1\n",
            "drwxr-xr-x 4 root root       4096 Sep 19 23:48 \u001b[01;34m.config\u001b[0m/\n",
            "drwxr-xr-x 2 root root       4096 Sep 20 00:09 \u001b[01;34msample_data\u001b[0m/\n",
            "---------- 1 root root   14739065 Sep 11 16:45 sample_submission.csv\n",
            "---------- 1 root root 1346845550 Sep 11 16:45 test.csv\n",
            "---------- 1 root root 1503430926 Sep 11 16:45 train.csv\n",
            "-rw-r--r-- 1 root root       3723 Sep 22 20:26 wget-log\n",
            "-rw-r--r-- 1 root root       3647 Sep 22 20:45 wget-log.1\n"
          ],
          "name": "stdout"
        }
      ]
    },
    {
      "metadata": {
        "id": "k5eRdpak5_rP",
        "colab_type": "code",
        "colab": {
          "base_uri": "https://localhost:8080/",
          "height": 34
        },
        "outputId": "9267d2d5-5c49-484f-925b-eb561e2bfd15"
      },
      "cell_type": "code",
      "source": [
        "pwd"
      ],
      "execution_count": 0,
      "outputs": [
        {
          "output_type": "execute_result",
          "data": {
            "text/plain": [
              "'/content'"
            ]
          },
          "metadata": {
            "tags": []
          },
          "execution_count": 10
        }
      ]
    },
    {
      "metadata": {
        "id": "HIk1zOAngfRu",
        "colab_type": "code",
        "colab": {}
      },
      "cell_type": "code",
      "source": [
        "def load_df(train_csv_path, nrows=None):\n",
        "    JSON_COLUMNS = ['device', 'geoNetwork', 'totals', 'trafficSource']\n",
        "\n",
        "    df = pd.read_csv(train_csv_path, dtype={'fullVisitorId': 'str'}, nrows=nrows)\n",
        "\n",
        "    for column in JSON_COLUMNS:\n",
        "        df = df.join(pd.DataFrame(df.pop(column).apply(pd.io.json.loads).values.tolist(), index=df.index))\n",
        "\n",
        "    return df"
      ],
      "execution_count": 0,
      "outputs": []
    },
    {
      "metadata": {
        "id": "DQ8exe2B6TV0",
        "colab_type": "code",
        "colab": {
          "base_uri": "https://localhost:8080/",
          "height": 221
        },
        "outputId": "fa7701c1-6bf3-47dc-af29-d9ab33807c98"
      },
      "cell_type": "code",
      "source": [
        "ls -al"
      ],
      "execution_count": 0,
      "outputs": [
        {
          "output_type": "stream",
          "text": [
            "total 3035600\n",
            "drwxr-xr-x 1 root root       4096 Sep 22 21:01 \u001b[0m\u001b[01;34m.\u001b[0m/\n",
            "drwxr-xr-x 1 root root       4096 Sep 22 20:21 \u001b[01;34m..\u001b[0m/\n",
            "-rw-r--r-- 1 root root  121693383 Sep 22 20:26 all.zip\n",
            "-rw-r--r-- 1 root root  121693383 Sep 22 20:45 all.zip.1\n",
            "drwxr-xr-x 4 root root       4096 Sep 19 23:48 \u001b[01;34m.config\u001b[0m/\n",
            "drwxr-xr-x 2 root root       4096 Sep 20 00:09 \u001b[01;34msample_data\u001b[0m/\n",
            "---------- 1 root root   14739065 Sep 11 16:45 sample_submission.csv\n",
            "---------- 1 root root 1346845550 Sep 11 16:45 test.csv\n",
            "---------- 1 root root 1503430926 Sep 11 16:45 train.csv\n",
            "-rw-r--r-- 1 root root       3723 Sep 22 20:26 wget-log\n",
            "-rw-r--r-- 1 root root       3647 Sep 22 20:45 wget-log.1\n"
          ],
          "name": "stdout"
        }
      ]
    },
    {
      "metadata": {
        "id": "9aWUDM34gfRy",
        "colab_type": "code",
        "colab": {}
      },
      "cell_type": "code",
      "source": [
        "train = load_df(train_csv_path)\n",
        "test = load_df(test_csv_path)"
      ],
      "execution_count": 0,
      "outputs": []
    },
    {
      "metadata": {
        "id": "xqP31GhPgfR2",
        "colab_type": "text"
      },
      "cell_type": "markdown",
      "source": [
        "### About the train data"
      ]
    },
    {
      "metadata": {
        "id": "PmEo6aEagfR3",
        "colab_type": "code",
        "colab": {
          "base_uri": "https://localhost:8080/",
          "height": 479
        },
        "outputId": "d134eeb6-0655-44b6-9c0a-00aa0d2a14f8"
      },
      "cell_type": "code",
      "source": [
        "train.head()"
      ],
      "execution_count": 0,
      "outputs": [
        {
          "output_type": "execute_result",
          "data": {
            "text/html": [
              "<div>\n",
              "<style scoped>\n",
              "    .dataframe tbody tr th:only-of-type {\n",
              "        vertical-align: middle;\n",
              "    }\n",
              "\n",
              "    .dataframe tbody tr th {\n",
              "        vertical-align: top;\n",
              "    }\n",
              "\n",
              "    .dataframe thead th {\n",
              "        text-align: right;\n",
              "    }\n",
              "</style>\n",
              "<table border=\"1\" class=\"dataframe\">\n",
              "  <thead>\n",
              "    <tr style=\"text-align: right;\">\n",
              "      <th></th>\n",
              "      <th>channelGrouping</th>\n",
              "      <th>date</th>\n",
              "      <th>fullVisitorId</th>\n",
              "      <th>sessionId</th>\n",
              "      <th>socialEngagementType</th>\n",
              "      <th>visitId</th>\n",
              "      <th>visitNumber</th>\n",
              "      <th>visitStartTime</th>\n",
              "      <th>browser</th>\n",
              "      <th>browserSize</th>\n",
              "      <th>browserVersion</th>\n",
              "      <th>deviceCategory</th>\n",
              "      <th>flashVersion</th>\n",
              "      <th>isMobile</th>\n",
              "      <th>language</th>\n",
              "      <th>mobileDeviceBranding</th>\n",
              "      <th>mobileDeviceInfo</th>\n",
              "      <th>mobileDeviceMarketingName</th>\n",
              "      <th>mobileDeviceModel</th>\n",
              "      <th>mobileInputSelector</th>\n",
              "      <th>operatingSystem</th>\n",
              "      <th>operatingSystemVersion</th>\n",
              "      <th>screenColors</th>\n",
              "      <th>screenResolution</th>\n",
              "      <th>city</th>\n",
              "      <th>cityId</th>\n",
              "      <th>continent</th>\n",
              "      <th>country</th>\n",
              "      <th>latitude</th>\n",
              "      <th>longitude</th>\n",
              "      <th>metro</th>\n",
              "      <th>networkDomain</th>\n",
              "      <th>networkLocation</th>\n",
              "      <th>region</th>\n",
              "      <th>subContinent</th>\n",
              "      <th>bounces</th>\n",
              "      <th>hits</th>\n",
              "      <th>newVisits</th>\n",
              "      <th>pageviews</th>\n",
              "      <th>transactionRevenue</th>\n",
              "      <th>visits</th>\n",
              "      <th>adContent</th>\n",
              "      <th>adwordsClickInfo</th>\n",
              "      <th>campaign</th>\n",
              "      <th>campaignCode</th>\n",
              "      <th>isTrueDirect</th>\n",
              "      <th>keyword</th>\n",
              "      <th>medium</th>\n",
              "      <th>referralPath</th>\n",
              "      <th>source</th>\n",
              "    </tr>\n",
              "  </thead>\n",
              "  <tbody>\n",
              "    <tr>\n",
              "      <th>0</th>\n",
              "      <td>Organic Search</td>\n",
              "      <td>20160902</td>\n",
              "      <td>1131660440785968503</td>\n",
              "      <td>1131660440785968503_1472830385</td>\n",
              "      <td>Not Socially Engaged</td>\n",
              "      <td>1472830385</td>\n",
              "      <td>1</td>\n",
              "      <td>1472830385</td>\n",
              "      <td>Chrome</td>\n",
              "      <td>not available in demo dataset</td>\n",
              "      <td>not available in demo dataset</td>\n",
              "      <td>desktop</td>\n",
              "      <td>not available in demo dataset</td>\n",
              "      <td>False</td>\n",
              "      <td>not available in demo dataset</td>\n",
              "      <td>not available in demo dataset</td>\n",
              "      <td>not available in demo dataset</td>\n",
              "      <td>not available in demo dataset</td>\n",
              "      <td>not available in demo dataset</td>\n",
              "      <td>not available in demo dataset</td>\n",
              "      <td>Windows</td>\n",
              "      <td>not available in demo dataset</td>\n",
              "      <td>not available in demo dataset</td>\n",
              "      <td>not available in demo dataset</td>\n",
              "      <td>Izmir</td>\n",
              "      <td>not available in demo dataset</td>\n",
              "      <td>Asia</td>\n",
              "      <td>Turkey</td>\n",
              "      <td>not available in demo dataset</td>\n",
              "      <td>not available in demo dataset</td>\n",
              "      <td>(not set)</td>\n",
              "      <td>ttnet.com.tr</td>\n",
              "      <td>not available in demo dataset</td>\n",
              "      <td>Izmir</td>\n",
              "      <td>Western Asia</td>\n",
              "      <td>1</td>\n",
              "      <td>1</td>\n",
              "      <td>1</td>\n",
              "      <td>1</td>\n",
              "      <td>NaN</td>\n",
              "      <td>1</td>\n",
              "      <td>NaN</td>\n",
              "      <td>{'criteriaParameters': 'not available in demo ...</td>\n",
              "      <td>(not set)</td>\n",
              "      <td>NaN</td>\n",
              "      <td>NaN</td>\n",
              "      <td>(not provided)</td>\n",
              "      <td>organic</td>\n",
              "      <td>NaN</td>\n",
              "      <td>google</td>\n",
              "    </tr>\n",
              "    <tr>\n",
              "      <th>1</th>\n",
              "      <td>Organic Search</td>\n",
              "      <td>20160902</td>\n",
              "      <td>377306020877927890</td>\n",
              "      <td>377306020877927890_1472880147</td>\n",
              "      <td>Not Socially Engaged</td>\n",
              "      <td>1472880147</td>\n",
              "      <td>1</td>\n",
              "      <td>1472880147</td>\n",
              "      <td>Firefox</td>\n",
              "      <td>not available in demo dataset</td>\n",
              "      <td>not available in demo dataset</td>\n",
              "      <td>desktop</td>\n",
              "      <td>not available in demo dataset</td>\n",
              "      <td>False</td>\n",
              "      <td>not available in demo dataset</td>\n",
              "      <td>not available in demo dataset</td>\n",
              "      <td>not available in demo dataset</td>\n",
              "      <td>not available in demo dataset</td>\n",
              "      <td>not available in demo dataset</td>\n",
              "      <td>not available in demo dataset</td>\n",
              "      <td>Macintosh</td>\n",
              "      <td>not available in demo dataset</td>\n",
              "      <td>not available in demo dataset</td>\n",
              "      <td>not available in demo dataset</td>\n",
              "      <td>not available in demo dataset</td>\n",
              "      <td>not available in demo dataset</td>\n",
              "      <td>Oceania</td>\n",
              "      <td>Australia</td>\n",
              "      <td>not available in demo dataset</td>\n",
              "      <td>not available in demo dataset</td>\n",
              "      <td>not available in demo dataset</td>\n",
              "      <td>dodo.net.au</td>\n",
              "      <td>not available in demo dataset</td>\n",
              "      <td>not available in demo dataset</td>\n",
              "      <td>Australasia</td>\n",
              "      <td>1</td>\n",
              "      <td>1</td>\n",
              "      <td>1</td>\n",
              "      <td>1</td>\n",
              "      <td>NaN</td>\n",
              "      <td>1</td>\n",
              "      <td>NaN</td>\n",
              "      <td>{'criteriaParameters': 'not available in demo ...</td>\n",
              "      <td>(not set)</td>\n",
              "      <td>NaN</td>\n",
              "      <td>NaN</td>\n",
              "      <td>(not provided)</td>\n",
              "      <td>organic</td>\n",
              "      <td>NaN</td>\n",
              "      <td>google</td>\n",
              "    </tr>\n",
              "    <tr>\n",
              "      <th>2</th>\n",
              "      <td>Organic Search</td>\n",
              "      <td>20160902</td>\n",
              "      <td>3895546263509774583</td>\n",
              "      <td>3895546263509774583_1472865386</td>\n",
              "      <td>Not Socially Engaged</td>\n",
              "      <td>1472865386</td>\n",
              "      <td>1</td>\n",
              "      <td>1472865386</td>\n",
              "      <td>Chrome</td>\n",
              "      <td>not available in demo dataset</td>\n",
              "      <td>not available in demo dataset</td>\n",
              "      <td>desktop</td>\n",
              "      <td>not available in demo dataset</td>\n",
              "      <td>False</td>\n",
              "      <td>not available in demo dataset</td>\n",
              "      <td>not available in demo dataset</td>\n",
              "      <td>not available in demo dataset</td>\n",
              "      <td>not available in demo dataset</td>\n",
              "      <td>not available in demo dataset</td>\n",
              "      <td>not available in demo dataset</td>\n",
              "      <td>Windows</td>\n",
              "      <td>not available in demo dataset</td>\n",
              "      <td>not available in demo dataset</td>\n",
              "      <td>not available in demo dataset</td>\n",
              "      <td>Madrid</td>\n",
              "      <td>not available in demo dataset</td>\n",
              "      <td>Europe</td>\n",
              "      <td>Spain</td>\n",
              "      <td>not available in demo dataset</td>\n",
              "      <td>not available in demo dataset</td>\n",
              "      <td>(not set)</td>\n",
              "      <td>unknown.unknown</td>\n",
              "      <td>not available in demo dataset</td>\n",
              "      <td>Community of Madrid</td>\n",
              "      <td>Southern Europe</td>\n",
              "      <td>1</td>\n",
              "      <td>1</td>\n",
              "      <td>1</td>\n",
              "      <td>1</td>\n",
              "      <td>NaN</td>\n",
              "      <td>1</td>\n",
              "      <td>NaN</td>\n",
              "      <td>{'criteriaParameters': 'not available in demo ...</td>\n",
              "      <td>(not set)</td>\n",
              "      <td>NaN</td>\n",
              "      <td>NaN</td>\n",
              "      <td>(not provided)</td>\n",
              "      <td>organic</td>\n",
              "      <td>NaN</td>\n",
              "      <td>google</td>\n",
              "    </tr>\n",
              "    <tr>\n",
              "      <th>3</th>\n",
              "      <td>Organic Search</td>\n",
              "      <td>20160902</td>\n",
              "      <td>4763447161404445595</td>\n",
              "      <td>4763447161404445595_1472881213</td>\n",
              "      <td>Not Socially Engaged</td>\n",
              "      <td>1472881213</td>\n",
              "      <td>1</td>\n",
              "      <td>1472881213</td>\n",
              "      <td>UC Browser</td>\n",
              "      <td>not available in demo dataset</td>\n",
              "      <td>not available in demo dataset</td>\n",
              "      <td>desktop</td>\n",
              "      <td>not available in demo dataset</td>\n",
              "      <td>False</td>\n",
              "      <td>not available in demo dataset</td>\n",
              "      <td>not available in demo dataset</td>\n",
              "      <td>not available in demo dataset</td>\n",
              "      <td>not available in demo dataset</td>\n",
              "      <td>not available in demo dataset</td>\n",
              "      <td>not available in demo dataset</td>\n",
              "      <td>Linux</td>\n",
              "      <td>not available in demo dataset</td>\n",
              "      <td>not available in demo dataset</td>\n",
              "      <td>not available in demo dataset</td>\n",
              "      <td>not available in demo dataset</td>\n",
              "      <td>not available in demo dataset</td>\n",
              "      <td>Asia</td>\n",
              "      <td>Indonesia</td>\n",
              "      <td>not available in demo dataset</td>\n",
              "      <td>not available in demo dataset</td>\n",
              "      <td>not available in demo dataset</td>\n",
              "      <td>unknown.unknown</td>\n",
              "      <td>not available in demo dataset</td>\n",
              "      <td>not available in demo dataset</td>\n",
              "      <td>Southeast Asia</td>\n",
              "      <td>1</td>\n",
              "      <td>1</td>\n",
              "      <td>1</td>\n",
              "      <td>1</td>\n",
              "      <td>NaN</td>\n",
              "      <td>1</td>\n",
              "      <td>NaN</td>\n",
              "      <td>{'criteriaParameters': 'not available in demo ...</td>\n",
              "      <td>(not set)</td>\n",
              "      <td>NaN</td>\n",
              "      <td>NaN</td>\n",
              "      <td>google + online</td>\n",
              "      <td>organic</td>\n",
              "      <td>NaN</td>\n",
              "      <td>google</td>\n",
              "    </tr>\n",
              "    <tr>\n",
              "      <th>4</th>\n",
              "      <td>Organic Search</td>\n",
              "      <td>20160902</td>\n",
              "      <td>27294437909732085</td>\n",
              "      <td>27294437909732085_1472822600</td>\n",
              "      <td>Not Socially Engaged</td>\n",
              "      <td>1472822600</td>\n",
              "      <td>2</td>\n",
              "      <td>1472822600</td>\n",
              "      <td>Chrome</td>\n",
              "      <td>not available in demo dataset</td>\n",
              "      <td>not available in demo dataset</td>\n",
              "      <td>mobile</td>\n",
              "      <td>not available in demo dataset</td>\n",
              "      <td>True</td>\n",
              "      <td>not available in demo dataset</td>\n",
              "      <td>not available in demo dataset</td>\n",
              "      <td>not available in demo dataset</td>\n",
              "      <td>not available in demo dataset</td>\n",
              "      <td>not available in demo dataset</td>\n",
              "      <td>not available in demo dataset</td>\n",
              "      <td>Android</td>\n",
              "      <td>not available in demo dataset</td>\n",
              "      <td>not available in demo dataset</td>\n",
              "      <td>not available in demo dataset</td>\n",
              "      <td>not available in demo dataset</td>\n",
              "      <td>not available in demo dataset</td>\n",
              "      <td>Europe</td>\n",
              "      <td>United Kingdom</td>\n",
              "      <td>not available in demo dataset</td>\n",
              "      <td>not available in demo dataset</td>\n",
              "      <td>not available in demo dataset</td>\n",
              "      <td>unknown.unknown</td>\n",
              "      <td>not available in demo dataset</td>\n",
              "      <td>not available in demo dataset</td>\n",
              "      <td>Northern Europe</td>\n",
              "      <td>1</td>\n",
              "      <td>1</td>\n",
              "      <td>NaN</td>\n",
              "      <td>1</td>\n",
              "      <td>NaN</td>\n",
              "      <td>1</td>\n",
              "      <td>NaN</td>\n",
              "      <td>{'criteriaParameters': 'not available in demo ...</td>\n",
              "      <td>(not set)</td>\n",
              "      <td>NaN</td>\n",
              "      <td>True</td>\n",
              "      <td>(not provided)</td>\n",
              "      <td>organic</td>\n",
              "      <td>NaN</td>\n",
              "      <td>google</td>\n",
              "    </tr>\n",
              "  </tbody>\n",
              "</table>\n",
              "</div>"
            ],
            "text/plain": [
              "  channelGrouping      date        fullVisitorId  \\\n",
              "0  Organic Search  20160902  1131660440785968503   \n",
              "1  Organic Search  20160902   377306020877927890   \n",
              "2  Organic Search  20160902  3895546263509774583   \n",
              "3  Organic Search  20160902  4763447161404445595   \n",
              "4  Organic Search  20160902    27294437909732085   \n",
              "\n",
              "                        sessionId  socialEngagementType     visitId  \\\n",
              "0  1131660440785968503_1472830385  Not Socially Engaged  1472830385   \n",
              "1   377306020877927890_1472880147  Not Socially Engaged  1472880147   \n",
              "2  3895546263509774583_1472865386  Not Socially Engaged  1472865386   \n",
              "3  4763447161404445595_1472881213  Not Socially Engaged  1472881213   \n",
              "4    27294437909732085_1472822600  Not Socially Engaged  1472822600   \n",
              "\n",
              "   visitNumber  visitStartTime     browser                    browserSize  \\\n",
              "0            1      1472830385      Chrome  not available in demo dataset   \n",
              "1            1      1472880147     Firefox  not available in demo dataset   \n",
              "2            1      1472865386      Chrome  not available in demo dataset   \n",
              "3            1      1472881213  UC Browser  not available in demo dataset   \n",
              "4            2      1472822600      Chrome  not available in demo dataset   \n",
              "\n",
              "                  browserVersion deviceCategory  \\\n",
              "0  not available in demo dataset        desktop   \n",
              "1  not available in demo dataset        desktop   \n",
              "2  not available in demo dataset        desktop   \n",
              "3  not available in demo dataset        desktop   \n",
              "4  not available in demo dataset         mobile   \n",
              "\n",
              "                    flashVersion  isMobile                       language  \\\n",
              "0  not available in demo dataset     False  not available in demo dataset   \n",
              "1  not available in demo dataset     False  not available in demo dataset   \n",
              "2  not available in demo dataset     False  not available in demo dataset   \n",
              "3  not available in demo dataset     False  not available in demo dataset   \n",
              "4  not available in demo dataset      True  not available in demo dataset   \n",
              "\n",
              "            mobileDeviceBranding               mobileDeviceInfo  \\\n",
              "0  not available in demo dataset  not available in demo dataset   \n",
              "1  not available in demo dataset  not available in demo dataset   \n",
              "2  not available in demo dataset  not available in demo dataset   \n",
              "3  not available in demo dataset  not available in demo dataset   \n",
              "4  not available in demo dataset  not available in demo dataset   \n",
              "\n",
              "       mobileDeviceMarketingName              mobileDeviceModel  \\\n",
              "0  not available in demo dataset  not available in demo dataset   \n",
              "1  not available in demo dataset  not available in demo dataset   \n",
              "2  not available in demo dataset  not available in demo dataset   \n",
              "3  not available in demo dataset  not available in demo dataset   \n",
              "4  not available in demo dataset  not available in demo dataset   \n",
              "\n",
              "             mobileInputSelector operatingSystem  \\\n",
              "0  not available in demo dataset         Windows   \n",
              "1  not available in demo dataset       Macintosh   \n",
              "2  not available in demo dataset         Windows   \n",
              "3  not available in demo dataset           Linux   \n",
              "4  not available in demo dataset         Android   \n",
              "\n",
              "          operatingSystemVersion                   screenColors  \\\n",
              "0  not available in demo dataset  not available in demo dataset   \n",
              "1  not available in demo dataset  not available in demo dataset   \n",
              "2  not available in demo dataset  not available in demo dataset   \n",
              "3  not available in demo dataset  not available in demo dataset   \n",
              "4  not available in demo dataset  not available in demo dataset   \n",
              "\n",
              "                screenResolution                           city  \\\n",
              "0  not available in demo dataset                          Izmir   \n",
              "1  not available in demo dataset  not available in demo dataset   \n",
              "2  not available in demo dataset                         Madrid   \n",
              "3  not available in demo dataset  not available in demo dataset   \n",
              "4  not available in demo dataset  not available in demo dataset   \n",
              "\n",
              "                          cityId continent         country  \\\n",
              "0  not available in demo dataset      Asia          Turkey   \n",
              "1  not available in demo dataset   Oceania       Australia   \n",
              "2  not available in demo dataset    Europe           Spain   \n",
              "3  not available in demo dataset      Asia       Indonesia   \n",
              "4  not available in demo dataset    Europe  United Kingdom   \n",
              "\n",
              "                        latitude                      longitude  \\\n",
              "0  not available in demo dataset  not available in demo dataset   \n",
              "1  not available in demo dataset  not available in demo dataset   \n",
              "2  not available in demo dataset  not available in demo dataset   \n",
              "3  not available in demo dataset  not available in demo dataset   \n",
              "4  not available in demo dataset  not available in demo dataset   \n",
              "\n",
              "                           metro    networkDomain  \\\n",
              "0                      (not set)     ttnet.com.tr   \n",
              "1  not available in demo dataset      dodo.net.au   \n",
              "2                      (not set)  unknown.unknown   \n",
              "3  not available in demo dataset  unknown.unknown   \n",
              "4  not available in demo dataset  unknown.unknown   \n",
              "\n",
              "                 networkLocation                         region  \\\n",
              "0  not available in demo dataset                          Izmir   \n",
              "1  not available in demo dataset  not available in demo dataset   \n",
              "2  not available in demo dataset            Community of Madrid   \n",
              "3  not available in demo dataset  not available in demo dataset   \n",
              "4  not available in demo dataset  not available in demo dataset   \n",
              "\n",
              "      subContinent bounces hits newVisits pageviews transactionRevenue visits  \\\n",
              "0     Western Asia       1    1         1         1                NaN      1   \n",
              "1      Australasia       1    1         1         1                NaN      1   \n",
              "2  Southern Europe       1    1         1         1                NaN      1   \n",
              "3   Southeast Asia       1    1         1         1                NaN      1   \n",
              "4  Northern Europe       1    1       NaN         1                NaN      1   \n",
              "\n",
              "  adContent                                   adwordsClickInfo   campaign  \\\n",
              "0       NaN  {'criteriaParameters': 'not available in demo ...  (not set)   \n",
              "1       NaN  {'criteriaParameters': 'not available in demo ...  (not set)   \n",
              "2       NaN  {'criteriaParameters': 'not available in demo ...  (not set)   \n",
              "3       NaN  {'criteriaParameters': 'not available in demo ...  (not set)   \n",
              "4       NaN  {'criteriaParameters': 'not available in demo ...  (not set)   \n",
              "\n",
              "  campaignCode isTrueDirect          keyword   medium referralPath  source  \n",
              "0          NaN          NaN   (not provided)  organic          NaN  google  \n",
              "1          NaN          NaN   (not provided)  organic          NaN  google  \n",
              "2          NaN          NaN   (not provided)  organic          NaN  google  \n",
              "3          NaN          NaN  google + online  organic          NaN  google  \n",
              "4          NaN         True   (not provided)  organic          NaN  google  "
            ]
          },
          "metadata": {
            "tags": []
          },
          "execution_count": 14
        }
      ]
    },
    {
      "metadata": {
        "id": "9EVglgsPgfR5",
        "colab_type": "text"
      },
      "cell_type": "markdown",
      "source": [
        "### This is how our data looks like"
      ]
    },
    {
      "metadata": {
        "id": "lE7x9ygegfR6",
        "colab_type": "code",
        "colab": {
          "base_uri": "https://localhost:8080/",
          "height": 510
        },
        "outputId": "4b75fc75-0a5e-43fb-87a4-1c0a57942950"
      },
      "cell_type": "code",
      "source": [
        "print('TRAIN SET')\n",
        "print('Rows: %s' % train.shape[0])\n",
        "print('Columns: %s' % train.shape[1])\n",
        "print('Features: %s' % train.columns.values)\n",
        "print()\n",
        "print('TEST SET')\n",
        "print('Rows: %s' % test.shape[0])\n",
        "print('Columns: %s' % test.shape[1])\n",
        "print('Features: %s' % test.columns.values)"
      ],
      "execution_count": 0,
      "outputs": [
        {
          "output_type": "stream",
          "text": [
            "TRAIN SET\n",
            "Rows: 903653\n",
            "Columns: 50\n",
            "Features: ['channelGrouping' 'date' 'fullVisitorId' 'sessionId'\n",
            " 'socialEngagementType' 'visitId' 'visitNumber' 'visitStartTime' 'browser'\n",
            " 'browserSize' 'browserVersion' 'deviceCategory' 'flashVersion' 'isMobile'\n",
            " 'language' 'mobileDeviceBranding' 'mobileDeviceInfo'\n",
            " 'mobileDeviceMarketingName' 'mobileDeviceModel' 'mobileInputSelector'\n",
            " 'operatingSystem' 'operatingSystemVersion' 'screenColors'\n",
            " 'screenResolution' 'city' 'cityId' 'continent' 'country' 'latitude'\n",
            " 'longitude' 'metro' 'networkDomain' 'networkLocation' 'region'\n",
            " 'subContinent' 'bounces' 'hits' 'newVisits' 'pageviews'\n",
            " 'transactionRevenue' 'visits' 'adContent' 'adwordsClickInfo' 'campaign'\n",
            " 'campaignCode' 'isTrueDirect' 'keyword' 'medium' 'referralPath' 'source']\n",
            "\n",
            "TEST SET\n",
            "Rows: 804684\n",
            "Columns: 48\n",
            "Features: ['channelGrouping' 'date' 'fullVisitorId' 'sessionId'\n",
            " 'socialEngagementType' 'visitId' 'visitNumber' 'visitStartTime' 'browser'\n",
            " 'browserSize' 'browserVersion' 'deviceCategory' 'flashVersion' 'isMobile'\n",
            " 'language' 'mobileDeviceBranding' 'mobileDeviceInfo'\n",
            " 'mobileDeviceMarketingName' 'mobileDeviceModel' 'mobileInputSelector'\n",
            " 'operatingSystem' 'operatingSystemVersion' 'screenColors'\n",
            " 'screenResolution' 'city' 'cityId' 'continent' 'country' 'latitude'\n",
            " 'longitude' 'metro' 'networkDomain' 'networkLocation' 'region'\n",
            " 'subContinent' 'bounces' 'hits' 'newVisits' 'pageviews' 'visits'\n",
            " 'adContent' 'adwordsClickInfo' 'campaign' 'isTrueDirect' 'keyword'\n",
            " 'medium' 'referralPath' 'source']\n"
          ],
          "name": "stdout"
        }
      ]
    },
    {
      "metadata": {
        "id": "gGLDeKkz-rOb",
        "colab_type": "code",
        "colab": {
          "base_uri": "https://localhost:8080/",
          "height": 34
        },
        "outputId": "307f4b12-27f1-45d2-d386-a0addb71791c"
      },
      "cell_type": "code",
      "source": [
        "set(train.columns) - set(test.columns)"
      ],
      "execution_count": 0,
      "outputs": [
        {
          "output_type": "execute_result",
          "data": {
            "text/plain": [
              "{'campaignCode', 'transactionRevenue'}"
            ]
          },
          "metadata": {
            "tags": []
          },
          "execution_count": 16
        }
      ]
    },
    {
      "metadata": {
        "id": "i6qSYMWv_Bwi",
        "colab_type": "code",
        "colab": {
          "base_uri": "https://localhost:8080/",
          "height": 952
        },
        "outputId": "b82cca14-d984-43db-d30b-ff72dc355e54"
      },
      "cell_type": "code",
      "source": [
        "train.info()"
      ],
      "execution_count": 0,
      "outputs": [
        {
          "output_type": "stream",
          "text": [
            "<class 'pandas.core.frame.DataFrame'>\n",
            "RangeIndex: 903653 entries, 0 to 903652\n",
            "Data columns (total 50 columns):\n",
            "channelGrouping              903653 non-null object\n",
            "date                         903653 non-null int64\n",
            "fullVisitorId                903653 non-null object\n",
            "sessionId                    903653 non-null object\n",
            "socialEngagementType         903653 non-null object\n",
            "visitId                      903653 non-null int64\n",
            "visitNumber                  903653 non-null int64\n",
            "visitStartTime               903653 non-null int64\n",
            "browser                      903653 non-null object\n",
            "browserSize                  903653 non-null object\n",
            "browserVersion               903653 non-null object\n",
            "deviceCategory               903653 non-null object\n",
            "flashVersion                 903653 non-null object\n",
            "isMobile                     903653 non-null bool\n",
            "language                     903653 non-null object\n",
            "mobileDeviceBranding         903653 non-null object\n",
            "mobileDeviceInfo             903653 non-null object\n",
            "mobileDeviceMarketingName    903653 non-null object\n",
            "mobileDeviceModel            903653 non-null object\n",
            "mobileInputSelector          903653 non-null object\n",
            "operatingSystem              903653 non-null object\n",
            "operatingSystemVersion       903653 non-null object\n",
            "screenColors                 903653 non-null object\n",
            "screenResolution             903653 non-null object\n",
            "city                         903653 non-null object\n",
            "cityId                       903653 non-null object\n",
            "continent                    903653 non-null object\n",
            "country                      903653 non-null object\n",
            "latitude                     903653 non-null object\n",
            "longitude                    903653 non-null object\n",
            "metro                        903653 non-null object\n",
            "networkDomain                903653 non-null object\n",
            "networkLocation              903653 non-null object\n",
            "region                       903653 non-null object\n",
            "subContinent                 903653 non-null object\n",
            "bounces                      450630 non-null object\n",
            "hits                         903653 non-null object\n",
            "newVisits                    703060 non-null object\n",
            "pageviews                    903553 non-null object\n",
            "transactionRevenue           11515 non-null object\n",
            "visits                       903653 non-null object\n",
            "adContent                    10946 non-null object\n",
            "adwordsClickInfo             903653 non-null object\n",
            "campaign                     903653 non-null object\n",
            "campaignCode                 1 non-null object\n",
            "isTrueDirect                 274005 non-null object\n",
            "keyword                      400724 non-null object\n",
            "medium                       903653 non-null object\n",
            "referralPath                 330941 non-null object\n",
            "source                       903653 non-null object\n",
            "dtypes: bool(1), int64(4), object(45)\n",
            "memory usage: 338.7+ MB\n"
          ],
          "name": "stdout"
        }
      ]
    },
    {
      "metadata": {
        "id": "xnRoFlUiH38y",
        "colab_type": "code",
        "colab": {
          "base_uri": "https://localhost:8080/",
          "height": 283
        },
        "outputId": "4656e3aa-c52a-40f8-c9a2-791e1d515436"
      },
      "cell_type": "code",
      "source": [
        "train['transactionRevenue'].notNull()"
      ],
      "execution_count": 0,
      "outputs": [
        {
          "output_type": "error",
          "ename": "AttributeError",
          "evalue": "ignored",
          "traceback": [
            "\u001b[0;31m---------------------------------------------------------------------------\u001b[0m",
            "\u001b[0;31mAttributeError\u001b[0m                            Traceback (most recent call last)",
            "\u001b[0;32m<ipython-input-32-03398d234dcc>\u001b[0m in \u001b[0;36m<module>\u001b[0;34m()\u001b[0m\n\u001b[0;32m----> 1\u001b[0;31m \u001b[0mtrain\u001b[0m\u001b[0;34m[\u001b[0m\u001b[0;34m'transactionRevenue'\u001b[0m\u001b[0;34m]\u001b[0m\u001b[0;34m.\u001b[0m\u001b[0mnotNull\u001b[0m\u001b[0;34m(\u001b[0m\u001b[0;34m)\u001b[0m\u001b[0;34m\u001b[0m\u001b[0m\n\u001b[0m",
            "\u001b[0;32m/usr/local/lib/python3.6/dist-packages/pandas/core/generic.py\u001b[0m in \u001b[0;36m__getattr__\u001b[0;34m(self, name)\u001b[0m\n\u001b[1;32m   3612\u001b[0m             \u001b[0;32mif\u001b[0m \u001b[0mname\u001b[0m \u001b[0;32min\u001b[0m \u001b[0mself\u001b[0m\u001b[0;34m.\u001b[0m\u001b[0m_info_axis\u001b[0m\u001b[0;34m:\u001b[0m\u001b[0;34m\u001b[0m\u001b[0m\n\u001b[1;32m   3613\u001b[0m                 \u001b[0;32mreturn\u001b[0m \u001b[0mself\u001b[0m\u001b[0;34m[\u001b[0m\u001b[0mname\u001b[0m\u001b[0;34m]\u001b[0m\u001b[0;34m\u001b[0m\u001b[0m\n\u001b[0;32m-> 3614\u001b[0;31m             \u001b[0;32mreturn\u001b[0m \u001b[0mobject\u001b[0m\u001b[0;34m.\u001b[0m\u001b[0m__getattribute__\u001b[0m\u001b[0;34m(\u001b[0m\u001b[0mself\u001b[0m\u001b[0;34m,\u001b[0m \u001b[0mname\u001b[0m\u001b[0;34m)\u001b[0m\u001b[0;34m\u001b[0m\u001b[0m\n\u001b[0m\u001b[1;32m   3615\u001b[0m \u001b[0;34m\u001b[0m\u001b[0m\n\u001b[1;32m   3616\u001b[0m     \u001b[0;32mdef\u001b[0m \u001b[0m__setattr__\u001b[0m\u001b[0;34m(\u001b[0m\u001b[0mself\u001b[0m\u001b[0;34m,\u001b[0m \u001b[0mname\u001b[0m\u001b[0;34m,\u001b[0m \u001b[0mvalue\u001b[0m\u001b[0;34m)\u001b[0m\u001b[0;34m:\u001b[0m\u001b[0;34m\u001b[0m\u001b[0m\n",
            "\u001b[0;31mAttributeError\u001b[0m: 'Series' object has no attribute 'notNull'"
          ]
        }
      ]
    },
    {
      "metadata": {
        "id": "VX8_Ee2iHul7",
        "colab_type": "code",
        "colab": {}
      },
      "cell_type": "code",
      "source": [
        "train = train[pd.notnull(train['transactionRevenue'])]"
      ],
      "execution_count": 0,
      "outputs": []
    },
    {
      "metadata": {
        "id": "ZoMoKQzII70Q",
        "colab_type": "code",
        "colab": {
          "base_uri": "https://localhost:8080/",
          "height": 952
        },
        "outputId": "9f2d0a29-92a4-4cd9-c9b9-35363d585acc"
      },
      "cell_type": "code",
      "source": [
        "train.info()"
      ],
      "execution_count": 0,
      "outputs": [
        {
          "output_type": "stream",
          "text": [
            "<class 'pandas.core.frame.DataFrame'>\n",
            "Int64Index: 11515 entries, 752 to 903317\n",
            "Data columns (total 50 columns):\n",
            "channelGrouping              11515 non-null object\n",
            "date                         11515 non-null int64\n",
            "fullVisitorId                11515 non-null object\n",
            "sessionId                    11515 non-null object\n",
            "socialEngagementType         11515 non-null object\n",
            "visitId                      11515 non-null int64\n",
            "visitNumber                  11515 non-null int64\n",
            "visitStartTime               11515 non-null int64\n",
            "browser                      11515 non-null object\n",
            "browserSize                  11515 non-null object\n",
            "browserVersion               11515 non-null object\n",
            "deviceCategory               11515 non-null object\n",
            "flashVersion                 11515 non-null object\n",
            "isMobile                     11515 non-null bool\n",
            "language                     11515 non-null object\n",
            "mobileDeviceBranding         11515 non-null object\n",
            "mobileDeviceInfo             11515 non-null object\n",
            "mobileDeviceMarketingName    11515 non-null object\n",
            "mobileDeviceModel            11515 non-null object\n",
            "mobileInputSelector          11515 non-null object\n",
            "operatingSystem              11515 non-null object\n",
            "operatingSystemVersion       11515 non-null object\n",
            "screenColors                 11515 non-null object\n",
            "screenResolution             11515 non-null object\n",
            "city                         11515 non-null object\n",
            "cityId                       11515 non-null object\n",
            "continent                    11515 non-null object\n",
            "country                      11515 non-null object\n",
            "latitude                     11515 non-null object\n",
            "longitude                    11515 non-null object\n",
            "metro                        11515 non-null object\n",
            "networkDomain                11515 non-null object\n",
            "networkLocation              11515 non-null object\n",
            "region                       11515 non-null object\n",
            "subContinent                 11515 non-null object\n",
            "bounces                      0 non-null object\n",
            "hits                         11515 non-null object\n",
            "newVisits                    4465 non-null object\n",
            "pageviews                    11515 non-null object\n",
            "transactionRevenue           11515 non-null object\n",
            "visits                       11515 non-null object\n",
            "adContent                    143 non-null object\n",
            "adwordsClickInfo             11515 non-null object\n",
            "campaign                     11515 non-null object\n",
            "campaignCode                 0 non-null object\n",
            "isTrueDirect                 7004 non-null object\n",
            "keyword                      3871 non-null object\n",
            "medium                       11515 non-null object\n",
            "referralPath                 5415 non-null object\n",
            "source                       11515 non-null object\n",
            "dtypes: bool(1), int64(4), object(45)\n",
            "memory usage: 4.4+ MB\n"
          ],
          "name": "stdout"
        }
      ]
    },
    {
      "metadata": {
        "id": "xquoeYLN-1ZQ",
        "colab_type": "code",
        "colab": {}
      },
      "cell_type": "code",
      "source": [
        "train.drop('campaignCode',axis=1, inplace=True)"
      ],
      "execution_count": 0,
      "outputs": []
    },
    {
      "metadata": {
        "id": "JG-orYidgfR8",
        "colab_type": "text"
      },
      "cell_type": "markdown",
      "source": [
        "### Feature engineering"
      ]
    },
    {
      "metadata": {
        "id": "ic6P6WpEgfR9",
        "colab_type": "code",
        "colab": {}
      },
      "cell_type": "code",
      "source": [
        "train = add_time_features(train)\n",
        "test = add_time_features(test)\n",
        "# Convert target feature to 'float' type.\n",
        "train[\"transactionRevenue\"] = train[\"transactionRevenue\"].astype('float')"
      ],
      "execution_count": 0,
      "outputs": []
    },
    {
      "metadata": {
        "id": "vqylfAPFgfSA",
        "colab_type": "text"
      },
      "cell_type": "markdown",
      "source": [
        "### Exploratory data analysis"
      ]
    },
    {
      "metadata": {
        "id": "Oly6SDYggfSA",
        "colab_type": "text"
      },
      "cell_type": "markdown",
      "source": [
        "#### Let's take a look at our target value through the time."
      ]
    },
    {
      "metadata": {
        "id": "XwwP7PNvgfSB",
        "colab_type": "code",
        "colab": {}
      },
      "cell_type": "code",
      "source": [
        "time_agg = train.groupby('date')['transactionRevenue'].agg(['count', 'sum'])\n",
        "year_agg = train.groupby('year')['transactionRevenue'].agg(['sum'])\n",
        "month_agg = train.groupby('month')['transactionRevenue'].agg(['sum'])\n",
        "day_agg = train.groupby('day')['transactionRevenue'].agg(['sum'])\n",
        "weekday_agg = train.groupby('weekday')['transactionRevenue'].agg(['count','sum'])"
      ],
      "execution_count": 0,
      "outputs": []
    },
    {
      "metadata": {
        "id": "7YXnXP6IgfSE",
        "colab_type": "text"
      },
      "cell_type": "markdown",
      "source": [
        "#### Here is sum of our tagert feature \"transactionRevenue\" through the time."
      ]
    },
    {
      "metadata": {
        "id": "QNi5NsMCgfSE",
        "colab_type": "code",
        "colab": {
          "base_uri": "https://localhost:8080/",
          "height": 464
        },
        "outputId": "8d7e89e4-696f-4d33-d6fa-a0f5e6b7d175"
      },
      "cell_type": "code",
      "source": [
        "plt.figure(figsize=(20,7))\n",
        "plt.ticklabel_format(axis='y', style='plain')\n",
        "plt.ylabel('Sum transactionRevenue', fontsize=12)\n",
        "plt.xlabel('Date', fontsize=12)\n",
        "plt.scatter(time_agg.index.values, time_agg['sum'])\n",
        "plt.show()"
      ],
      "execution_count": 0,
      "outputs": [
        {
          "output_type": "display_data",
          "data": {
            "image/png": "[encoded data removed]",
            "text/plain": [
              "<matplotlib.figure.Figure at 0x7ff008f11be0>"
            ]
          },
          "metadata": {
            "tags": []
          }
        }
      ]
    },
    {
      "metadata": {
        "id": "B4qNjNQ6gfSI",
        "colab_type": "text"
      },
      "cell_type": "markdown",
      "source": [
        "Seems we had more transactions on late 2016 and early 2017, date features seems to be a good addition to our model."
      ]
    },
    {
      "metadata": {
        "id": "xYvrYGZVgfSK",
        "colab_type": "text"
      },
      "cell_type": "markdown",
      "source": [
        "#### And here count of our target feature \"transactionRevenue\"."
      ]
    },
    {
      "metadata": {
        "id": "58OWKchjgfSL",
        "colab_type": "code",
        "colab": {
          "base_uri": "https://localhost:8080/",
          "height": 464
        },
        "outputId": "536c7ad0-2cfc-4179-b7f2-191038ff4e87"
      },
      "cell_type": "code",
      "source": [
        "plt.figure(figsize=(20,7))\n",
        "plt.ticklabel_format(axis='y', style='plain')\n",
        "plt.ylabel('Frequency', fontsize=12)\n",
        "plt.xlabel('Date', fontsize=12)\n",
        "plt.scatter(time_agg.index.values, time_agg['count'])\n",
        "plt.show()"
      ],
      "execution_count": 0,
      "outputs": [
        {
          "output_type": "display_data",
          "data": {
            "image/png": "[encoded data removed]",
            "text/plain": [
              "<matplotlib.figure.Figure at 0x7ff05fb0ec18>"
            ]
          },
          "metadata": {
            "tags": []
          }
        }
      ]
    },
    {
      "metadata": {
        "id": "Ud5eOmiYgfSP",
        "colab_type": "text"
      },
      "cell_type": "markdown",
      "source": [
        "Again we had higher frequency at a similar time period."
      ]
    },
    {
      "metadata": {
        "id": "HIc1xULIgfSQ",
        "colab_type": "text"
      },
      "cell_type": "markdown",
      "source": [
        "#### Let's take a look at other time features."
      ]
    },
    {
      "metadata": {
        "id": "wRwX_Mc2gfSR",
        "colab_type": "code",
        "colab": {
          "base_uri": "https://localhost:8080/",
          "height": 533
        },
        "outputId": "81cb6e12-72ca-44cc-ea22-85edc7c39447"
      },
      "cell_type": "code",
      "source": [
        "fig, ((ax1, ax2), (ax3, ax4)) = plt.subplots(nrows=2, ncols=2, figsize=(20,7))\n",
        "ax1.scatter(year_agg.index.values, year_agg['sum'])\n",
        "ax1.locator_params(nbins=2)\n",
        "ax1.ticklabel_format(axis='y', style='plain')\n",
        "ax1.set_xlabel('Year', fontsize=12)\n",
        "\n",
        "ax2.scatter(month_agg.index.values, month_agg['sum'])\n",
        "ax2.locator_params(nbins=12)\n",
        "ax2.ticklabel_format(axis='y', style='plain')\n",
        "ax2.set_xlabel('Month', fontsize=12)\n",
        "\n",
        "ax3.scatter(day_agg.index.values, day_agg['sum'])\n",
        "ax3.locator_params(nbins=10)\n",
        "ax3.ticklabel_format(axis='y', style='plain')\n",
        "ax3.set_xlabel('Day', fontsize=12)\n",
        "\n",
        "ax4.scatter(weekday_agg.index.values, weekday_agg['sum'])\n",
        "ax4.locator_params(nbins=7)\n",
        "ax4.ticklabel_format(axis='y', style='plain')\n",
        "ax4.set_xlabel('Weekday', fontsize=12)\n",
        "\n",
        "plt.tight_layout()\n",
        "plt.show()"
      ],
      "execution_count": 0,
      "outputs": [
        {
          "output_type": "display_data",
          "data": {
            "image/png": "[encoded data removed]",
            "text/plain": [
              "<matplotlib.figure.Figure at 0x7ff011e0e860>"
            ]
          },
          "metadata": {
            "tags": []
          }
        }
      ]
    },
    {
      "metadata": {
        "id": "_NdQq63MgfSU",
        "colab_type": "text"
      },
      "cell_type": "markdown",
      "source": [
        "### About the engineered time features\n",
        "* Year: It seem transactions had a large increase from 2016 to 2017\n",
        "* Month: Lager transaction on december seems ok, but about months but im not sure why high values on april and august (maybe because of easter (april) or Tax-free weekend, back-to-school season(august)?)\n",
        "* Day: Here it seems that not really important is going on, seems this features can be discarded.\n",
        "* Weekday: Something strange is going on here, seems that weekends have less transactions?"
      ]
    },
    {
      "metadata": {
        "id": "fUC3jMoigfSU",
        "colab_type": "text"
      },
      "cell_type": "markdown",
      "source": [
        "### The let's do some cleaning"
      ]
    },
    {
      "metadata": {
        "id": "QbDQlTacgfSX",
        "colab_type": "text"
      },
      "cell_type": "markdown",
      "source": [
        "### Drop unwanted columns"
      ]
    },
    {
      "metadata": {
        "id": "QqJezcx2AgkP",
        "colab_type": "code",
        "colab": {}
      },
      "cell_type": "code",
      "source": [
        ""
      ],
      "execution_count": 0,
      "outputs": []
    },
    {
      "metadata": {
        "id": "BvgXD_I_gfSZ",
        "colab_type": "code",
        "colab": {}
      },
      "cell_type": "code",
      "source": [
        "# Unwanted columns\n",
        "unwanted_columns = ['fullVisitorId', 'sessionId', 'visitId', 'visitStartTime', \n",
        "                    'browser', 'browserSize', 'browserVersion', 'flashVersion', \n",
        "                    'mobileDeviceInfo', 'mobileDeviceMarketingName', 'mobileDeviceModel', \n",
        "                    'mobileInputSelector', 'operatingSystemVersion', 'screenColors', \n",
        "                    'metro','networkDomain', 'networkLocation', 'adContent', 'campaign', \n",
        "                    'isTrueDirect', 'keyword', 'referralPath', 'source', 'operatingSystem', 'day','adwordsClickInfo']\n",
        "\n",
        "train = train.drop(unwanted_columns, axis=1)\n",
        "test = test.drop(unwanted_columns, axis=1)\n"
      ],
      "execution_count": 0,
      "outputs": []
    },
    {
      "metadata": {
        "id": "_WfCz84yAkJg",
        "colab_type": "code",
        "colab": {
          "base_uri": "https://localhost:8080/",
          "height": 54
        },
        "outputId": "c55d0df5-b94f-4a39-f014-e4dce6f42ee7"
      },
      "cell_type": "code",
      "source": [
        "# Constant columns\n",
        "constant_columns = [c for c in train.columns if train[c].nunique()<=1]\n",
        "print('Columns with constant values: ', constant_columns)\n",
        "\n"
      ],
      "execution_count": 0,
      "outputs": [
        {
          "output_type": "stream",
          "text": [
            "Columns with constant values:  ['socialEngagementType', 'language', 'mobileDeviceBranding', 'screenResolution', 'cityId', 'latitude', 'longitude', 'bounces', 'newVisits', 'visits']\n"
          ],
          "name": "stdout"
        }
      ]
    },
    {
      "metadata": {
        "id": "WLpi_7lMAoBl",
        "colab_type": "code",
        "colab": {
          "base_uri": "https://localhost:8080/",
          "height": 623
        },
        "outputId": "c46ddbf5-efea-4d05-987f-c800bff98e34"
      },
      "cell_type": "code",
      "source": [
        "train = train.drop(constant_columns, axis=1)\n",
        "test = test.drop(constant_columns, axis=1)\n",
        "# Columns with more than 50% null data\n",
        "high_null_columns = [c for c in train.columns if train[c].count()<=len(train) * 0.5]\n",
        "print('Columns more than 50% null values: ', high_null_columns)\n",
        "train = train.drop(high_null_columns, axis=1)\n",
        "test = test.drop(high_null_columns, axis=1)"
      ],
      "execution_count": 0,
      "outputs": [
        {
          "output_type": "error",
          "ename": "ValueError",
          "evalue": "ignored",
          "traceback": [
            "\u001b[0;31m---------------------------------------------------------------------------\u001b[0m",
            "\u001b[0;31mValueError\u001b[0m                                Traceback (most recent call last)",
            "\u001b[0;32m<ipython-input-44-18f854cd53e8>\u001b[0m in \u001b[0;36m<module>\u001b[0;34m()\u001b[0m\n\u001b[0;32m----> 1\u001b[0;31m \u001b[0mtrain\u001b[0m \u001b[0;34m=\u001b[0m \u001b[0mtrain\u001b[0m\u001b[0;34m.\u001b[0m\u001b[0mdrop\u001b[0m\u001b[0;34m(\u001b[0m\u001b[0mconstant_columns\u001b[0m\u001b[0;34m,\u001b[0m \u001b[0maxis\u001b[0m\u001b[0;34m=\u001b[0m\u001b[0;36m1\u001b[0m\u001b[0;34m)\u001b[0m\u001b[0;34m\u001b[0m\u001b[0m\n\u001b[0m\u001b[1;32m      2\u001b[0m \u001b[0mtest\u001b[0m \u001b[0;34m=\u001b[0m \u001b[0mtest\u001b[0m\u001b[0;34m.\u001b[0m\u001b[0mdrop\u001b[0m\u001b[0;34m(\u001b[0m\u001b[0mconstant_columns\u001b[0m\u001b[0;34m,\u001b[0m \u001b[0maxis\u001b[0m\u001b[0;34m=\u001b[0m\u001b[0;36m1\u001b[0m\u001b[0;34m)\u001b[0m\u001b[0;34m\u001b[0m\u001b[0m\n\u001b[1;32m      3\u001b[0m \u001b[0;31m# Columns with more than 50% null data\u001b[0m\u001b[0;34m\u001b[0m\u001b[0;34m\u001b[0m\u001b[0m\n\u001b[1;32m      4\u001b[0m \u001b[0mhigh_null_columns\u001b[0m \u001b[0;34m=\u001b[0m \u001b[0;34m[\u001b[0m\u001b[0mc\u001b[0m \u001b[0;32mfor\u001b[0m \u001b[0mc\u001b[0m \u001b[0;32min\u001b[0m \u001b[0mtrain\u001b[0m\u001b[0;34m.\u001b[0m\u001b[0mcolumns\u001b[0m \u001b[0;32mif\u001b[0m \u001b[0mtrain\u001b[0m\u001b[0;34m[\u001b[0m\u001b[0mc\u001b[0m\u001b[0;34m]\u001b[0m\u001b[0;34m.\u001b[0m\u001b[0mcount\u001b[0m\u001b[0;34m(\u001b[0m\u001b[0;34m)\u001b[0m\u001b[0;34m<=\u001b[0m\u001b[0mlen\u001b[0m\u001b[0;34m(\u001b[0m\u001b[0mtrain\u001b[0m\u001b[0;34m)\u001b[0m \u001b[0;34m*\u001b[0m \u001b[0;36m0.5\u001b[0m\u001b[0;34m]\u001b[0m\u001b[0;34m\u001b[0m\u001b[0m\n\u001b[1;32m      5\u001b[0m \u001b[0mprint\u001b[0m\u001b[0;34m(\u001b[0m\u001b[0;34m'Columns more than 50% null values: '\u001b[0m\u001b[0;34m,\u001b[0m \u001b[0mhigh_null_columns\u001b[0m\u001b[0;34m)\u001b[0m\u001b[0;34m\u001b[0m\u001b[0m\n",
            "\u001b[0;32m/usr/local/lib/python3.6/dist-packages/pandas/core/generic.py\u001b[0m in \u001b[0;36mdrop\u001b[0;34m(self, labels, axis, index, columns, level, inplace, errors)\u001b[0m\n\u001b[1;32m   2528\u001b[0m         \u001b[0;32mfor\u001b[0m \u001b[0maxis\u001b[0m\u001b[0;34m,\u001b[0m \u001b[0mlabels\u001b[0m \u001b[0;32min\u001b[0m \u001b[0maxes\u001b[0m\u001b[0;34m.\u001b[0m\u001b[0mitems\u001b[0m\u001b[0;34m(\u001b[0m\u001b[0;34m)\u001b[0m\u001b[0;34m:\u001b[0m\u001b[0;34m\u001b[0m\u001b[0m\n\u001b[1;32m   2529\u001b[0m             \u001b[0;32mif\u001b[0m \u001b[0mlabels\u001b[0m \u001b[0;32mis\u001b[0m \u001b[0;32mnot\u001b[0m \u001b[0;32mNone\u001b[0m\u001b[0;34m:\u001b[0m\u001b[0;34m\u001b[0m\u001b[0m\n\u001b[0;32m-> 2530\u001b[0;31m                 \u001b[0mobj\u001b[0m \u001b[0;34m=\u001b[0m \u001b[0mobj\u001b[0m\u001b[0;34m.\u001b[0m\u001b[0m_drop_axis\u001b[0m\u001b[0;34m(\u001b[0m\u001b[0mlabels\u001b[0m\u001b[0;34m,\u001b[0m \u001b[0maxis\u001b[0m\u001b[0;34m,\u001b[0m \u001b[0mlevel\u001b[0m\u001b[0;34m=\u001b[0m\u001b[0mlevel\u001b[0m\u001b[0;34m,\u001b[0m \u001b[0merrors\u001b[0m\u001b[0;34m=\u001b[0m\u001b[0merrors\u001b[0m\u001b[0;34m)\u001b[0m\u001b[0;34m\u001b[0m\u001b[0m\n\u001b[0m\u001b[1;32m   2531\u001b[0m \u001b[0;34m\u001b[0m\u001b[0m\n\u001b[1;32m   2532\u001b[0m         \u001b[0;32mif\u001b[0m \u001b[0minplace\u001b[0m\u001b[0;34m:\u001b[0m\u001b[0;34m\u001b[0m\u001b[0m\n",
            "\u001b[0;32m/usr/local/lib/python3.6/dist-packages/pandas/core/generic.py\u001b[0m in \u001b[0;36m_drop_axis\u001b[0;34m(self, labels, axis, level, errors)\u001b[0m\n\u001b[1;32m   2560\u001b[0m                 \u001b[0mnew_axis\u001b[0m \u001b[0;34m=\u001b[0m \u001b[0maxis\u001b[0m\u001b[0;34m.\u001b[0m\u001b[0mdrop\u001b[0m\u001b[0;34m(\u001b[0m\u001b[0mlabels\u001b[0m\u001b[0;34m,\u001b[0m \u001b[0mlevel\u001b[0m\u001b[0;34m=\u001b[0m\u001b[0mlevel\u001b[0m\u001b[0;34m,\u001b[0m \u001b[0merrors\u001b[0m\u001b[0;34m=\u001b[0m\u001b[0merrors\u001b[0m\u001b[0;34m)\u001b[0m\u001b[0;34m\u001b[0m\u001b[0m\n\u001b[1;32m   2561\u001b[0m             \u001b[0;32melse\u001b[0m\u001b[0;34m:\u001b[0m\u001b[0;34m\u001b[0m\u001b[0m\n\u001b[0;32m-> 2562\u001b[0;31m                 \u001b[0mnew_axis\u001b[0m \u001b[0;34m=\u001b[0m \u001b[0maxis\u001b[0m\u001b[0;34m.\u001b[0m\u001b[0mdrop\u001b[0m\u001b[0;34m(\u001b[0m\u001b[0mlabels\u001b[0m\u001b[0;34m,\u001b[0m \u001b[0merrors\u001b[0m\u001b[0;34m=\u001b[0m\u001b[0merrors\u001b[0m\u001b[0;34m)\u001b[0m\u001b[0;34m\u001b[0m\u001b[0m\n\u001b[0m\u001b[1;32m   2563\u001b[0m             \u001b[0mdropped\u001b[0m \u001b[0;34m=\u001b[0m \u001b[0mself\u001b[0m\u001b[0;34m.\u001b[0m\u001b[0mreindex\u001b[0m\u001b[0;34m(\u001b[0m\u001b[0;34m**\u001b[0m\u001b[0;34m{\u001b[0m\u001b[0maxis_name\u001b[0m\u001b[0;34m:\u001b[0m \u001b[0mnew_axis\u001b[0m\u001b[0;34m}\u001b[0m\u001b[0;34m)\u001b[0m\u001b[0;34m\u001b[0m\u001b[0m\n\u001b[1;32m   2564\u001b[0m             \u001b[0;32mtry\u001b[0m\u001b[0;34m:\u001b[0m\u001b[0;34m\u001b[0m\u001b[0m\n",
            "\u001b[0;32m/usr/local/lib/python3.6/dist-packages/pandas/core/indexes/base.py\u001b[0m in \u001b[0;36mdrop\u001b[0;34m(self, labels, errors)\u001b[0m\n\u001b[1;32m   3742\u001b[0m             \u001b[0;32mif\u001b[0m \u001b[0merrors\u001b[0m \u001b[0;34m!=\u001b[0m \u001b[0;34m'ignore'\u001b[0m\u001b[0;34m:\u001b[0m\u001b[0;34m\u001b[0m\u001b[0m\n\u001b[1;32m   3743\u001b[0m                 raise ValueError('labels %s not contained in axis' %\n\u001b[0;32m-> 3744\u001b[0;31m                                  labels[mask])\n\u001b[0m\u001b[1;32m   3745\u001b[0m             \u001b[0mindexer\u001b[0m \u001b[0;34m=\u001b[0m \u001b[0mindexer\u001b[0m\u001b[0;34m[\u001b[0m\u001b[0;34m~\u001b[0m\u001b[0mmask\u001b[0m\u001b[0;34m]\u001b[0m\u001b[0;34m\u001b[0m\u001b[0m\n\u001b[1;32m   3746\u001b[0m         \u001b[0;32mreturn\u001b[0m \u001b[0mself\u001b[0m\u001b[0;34m.\u001b[0m\u001b[0mdelete\u001b[0m\u001b[0;34m(\u001b[0m\u001b[0mindexer\u001b[0m\u001b[0;34m)\u001b[0m\u001b[0;34m\u001b[0m\u001b[0m\n",
            "\u001b[0;31mValueError\u001b[0m: labels ['socialEngagementType' 'language' 'mobileDeviceBranding'\n 'screenResolution' 'cityId' 'latitude' 'longitude' 'bounces' 'newVisits'\n 'visits'] not contained in axis"
          ]
        }
      ]
    },
    {
      "metadata": {
        "id": "9MEqqMfeAkC3",
        "colab_type": "code",
        "colab": {}
      },
      "cell_type": "code",
      "source": [
        ""
      ],
      "execution_count": 0,
      "outputs": []
    },
    {
      "metadata": {
        "id": "ya1IzcoigfSd",
        "colab_type": "text"
      },
      "cell_type": "markdown",
      "source": [
        "### This is our new data with some cleaning and engineering."
      ]
    },
    {
      "metadata": {
        "id": "qLB_3eBygfSd",
        "colab_type": "code",
        "colab": {
          "base_uri": "https://localhost:8080/",
          "height": 238
        },
        "outputId": "5966d113-8387-4d8d-e40e-b630787fc79f"
      },
      "cell_type": "code",
      "source": [
        "print('TRAIN SET')\n",
        "print('Rows: %s' % train.shape[0])\n",
        "print('Columns: %s' % train.shape[1])\n",
        "print('Features: %s' % train.columns.values)\n",
        "print()\n",
        "print('TEST SET')\n",
        "print('Rows: %s' % test.shape[0])\n",
        "print('Columns: %s' % test.shape[1])\n",
        "print('Features: %s' % test.columns.values)"
      ],
      "execution_count": 0,
      "outputs": [
        {
          "output_type": "stream",
          "text": [
            "TRAIN SET\n",
            "Rows: 11515\n",
            "Columns: 17\n",
            "Features: ['channelGrouping' 'date' 'visitNumber' 'deviceCategory' 'isMobile' 'city'\n",
            " 'continent' 'country' 'region' 'subContinent' 'hits' 'pageviews'\n",
            " 'transactionRevenue' 'medium' 'year' 'month' 'weekday']\n",
            "\n",
            "TEST SET\n",
            "Rows: 804684\n",
            "Columns: 16\n",
            "Features: ['channelGrouping' 'date' 'visitNumber' 'deviceCategory' 'isMobile' 'city'\n",
            " 'continent' 'country' 'region' 'subContinent' 'hits' 'pageviews' 'medium'\n",
            " 'year' 'month' 'weekday']\n"
          ],
          "name": "stdout"
        }
      ]
    },
    {
      "metadata": {
        "id": "Lbh-uVwugfSh",
        "colab_type": "code",
        "colab": {
          "base_uri": "https://localhost:8080/",
          "height": 343
        },
        "outputId": "b062ac85-31e2-4d44-f410-d61f82742b0a"
      },
      "cell_type": "code",
      "source": [
        "train.head()"
      ],
      "execution_count": 0,
      "outputs": [
        {
          "output_type": "execute_result",
          "data": {
            "text/html": [
              "<div>\n",
              "<style scoped>\n",
              "    .dataframe tbody tr th:only-of-type {\n",
              "        vertical-align: middle;\n",
              "    }\n",
              "\n",
              "    .dataframe tbody tr th {\n",
              "        vertical-align: top;\n",
              "    }\n",
              "\n",
              "    .dataframe thead th {\n",
              "        text-align: right;\n",
              "    }\n",
              "</style>\n",
              "<table border=\"1\" class=\"dataframe\">\n",
              "  <thead>\n",
              "    <tr style=\"text-align: right;\">\n",
              "      <th></th>\n",
              "      <th>channelGrouping</th>\n",
              "      <th>date</th>\n",
              "      <th>visitNumber</th>\n",
              "      <th>deviceCategory</th>\n",
              "      <th>isMobile</th>\n",
              "      <th>city</th>\n",
              "      <th>continent</th>\n",
              "      <th>country</th>\n",
              "      <th>region</th>\n",
              "      <th>subContinent</th>\n",
              "      <th>hits</th>\n",
              "      <th>pageviews</th>\n",
              "      <th>transactionRevenue</th>\n",
              "      <th>medium</th>\n",
              "      <th>year</th>\n",
              "      <th>month</th>\n",
              "      <th>weekday</th>\n",
              "    </tr>\n",
              "  </thead>\n",
              "  <tbody>\n",
              "    <tr>\n",
              "      <th>752</th>\n",
              "      <td>Direct</td>\n",
              "      <td>2016-09-02</td>\n",
              "      <td>1</td>\n",
              "      <td>desktop</td>\n",
              "      <td>False</td>\n",
              "      <td>Ann Arbor</td>\n",
              "      <td>Americas</td>\n",
              "      <td>United States</td>\n",
              "      <td>Michigan</td>\n",
              "      <td>Northern America</td>\n",
              "      <td>11</td>\n",
              "      <td>11</td>\n",
              "      <td>37860000.0</td>\n",
              "      <td>(none)</td>\n",
              "      <td>2016</td>\n",
              "      <td>9</td>\n",
              "      <td>4</td>\n",
              "    </tr>\n",
              "    <tr>\n",
              "      <th>753</th>\n",
              "      <td>Organic Search</td>\n",
              "      <td>2016-09-02</td>\n",
              "      <td>3</td>\n",
              "      <td>desktop</td>\n",
              "      <td>False</td>\n",
              "      <td>New York</td>\n",
              "      <td>Americas</td>\n",
              "      <td>United States</td>\n",
              "      <td>New York</td>\n",
              "      <td>Northern America</td>\n",
              "      <td>11</td>\n",
              "      <td>10</td>\n",
              "      <td>306670000.0</td>\n",
              "      <td>organic</td>\n",
              "      <td>2016</td>\n",
              "      <td>9</td>\n",
              "      <td>4</td>\n",
              "    </tr>\n",
              "    <tr>\n",
              "      <th>799</th>\n",
              "      <td>Referral</td>\n",
              "      <td>2016-09-02</td>\n",
              "      <td>7</td>\n",
              "      <td>desktop</td>\n",
              "      <td>False</td>\n",
              "      <td>New York</td>\n",
              "      <td>Americas</td>\n",
              "      <td>United States</td>\n",
              "      <td>New York</td>\n",
              "      <td>Northern America</td>\n",
              "      <td>13</td>\n",
              "      <td>11</td>\n",
              "      <td>68030000.0</td>\n",
              "      <td>referral</td>\n",
              "      <td>2016</td>\n",
              "      <td>9</td>\n",
              "      <td>4</td>\n",
              "    </tr>\n",
              "    <tr>\n",
              "      <th>802</th>\n",
              "      <td>Referral</td>\n",
              "      <td>2016-09-02</td>\n",
              "      <td>6</td>\n",
              "      <td>desktop</td>\n",
              "      <td>False</td>\n",
              "      <td>Mountain View</td>\n",
              "      <td>Americas</td>\n",
              "      <td>United States</td>\n",
              "      <td>California</td>\n",
              "      <td>Northern America</td>\n",
              "      <td>13</td>\n",
              "      <td>12</td>\n",
              "      <td>26250000.0</td>\n",
              "      <td>referral</td>\n",
              "      <td>2016</td>\n",
              "      <td>9</td>\n",
              "      <td>4</td>\n",
              "    </tr>\n",
              "    <tr>\n",
              "      <th>859</th>\n",
              "      <td>Referral</td>\n",
              "      <td>2016-09-02</td>\n",
              "      <td>4</td>\n",
              "      <td>desktop</td>\n",
              "      <td>False</td>\n",
              "      <td>not available in demo dataset</td>\n",
              "      <td>Americas</td>\n",
              "      <td>United States</td>\n",
              "      <td>not available in demo dataset</td>\n",
              "      <td>Northern America</td>\n",
              "      <td>17</td>\n",
              "      <td>14</td>\n",
              "      <td>574150000.0</td>\n",
              "      <td>referral</td>\n",
              "      <td>2016</td>\n",
              "      <td>9</td>\n",
              "      <td>4</td>\n",
              "    </tr>\n",
              "  </tbody>\n",
              "</table>\n",
              "</div>"
            ],
            "text/plain": [
              "    channelGrouping       date  visitNumber deviceCategory  isMobile  \\\n",
              "752          Direct 2016-09-02            1        desktop     False   \n",
              "753  Organic Search 2016-09-02            3        desktop     False   \n",
              "799        Referral 2016-09-02            7        desktop     False   \n",
              "802        Referral 2016-09-02            6        desktop     False   \n",
              "859        Referral 2016-09-02            4        desktop     False   \n",
              "\n",
              "                              city continent        country  \\\n",
              "752                      Ann Arbor  Americas  United States   \n",
              "753                       New York  Americas  United States   \n",
              "799                       New York  Americas  United States   \n",
              "802                  Mountain View  Americas  United States   \n",
              "859  not available in demo dataset  Americas  United States   \n",
              "\n",
              "                            region      subContinent hits pageviews  \\\n",
              "752                       Michigan  Northern America   11        11   \n",
              "753                       New York  Northern America   11        10   \n",
              "799                       New York  Northern America   13        11   \n",
              "802                     California  Northern America   13        12   \n",
              "859  not available in demo dataset  Northern America   17        14   \n",
              "\n",
              "     transactionRevenue    medium  year  month  weekday  \n",
              "752          37860000.0    (none)  2016      9        4  \n",
              "753         306670000.0   organic  2016      9        4  \n",
              "799          68030000.0  referral  2016      9        4  \n",
              "802          26250000.0  referral  2016      9        4  \n",
              "859         574150000.0  referral  2016      9        4  "
            ]
          },
          "metadata": {
            "tags": []
          },
          "execution_count": 46
        }
      ]
    },
    {
      "metadata": {
        "id": "95Md2f8RgfSl",
        "colab_type": "text"
      },
      "cell_type": "markdown",
      "source": [
        "### One-hot encode categorical data"
      ]
    },
    {
      "metadata": {
        "id": "zyPnIT0zgfSm",
        "colab_type": "code",
        "colab": {}
      },
      "cell_type": "code",
      "source": [
        "categorical_features = ['deviceCategory', 'isMobile', 'continent', 'month', 'weekday']\n",
        "train = pd.get_dummies(train, columns=categorical_features)\n",
        "test = pd.get_dummies(test, columns=categorical_features)"
      ],
      "execution_count": 0,
      "outputs": []
    },
    {
      "metadata": {
        "id": "aWvSpiqWgfSp",
        "colab_type": "code",
        "colab": {}
      },
      "cell_type": "code",
      "source": [
        "# align both data sets (by outer join), to make they have the same amount of features,\n",
        "# this is required because of the mismatched categorical values in train and test sets\n",
        "train, test = train.align(test, join='outer', axis=1)\n",
        "\n",
        "# replace the nan values added by align for 0\n",
        "train.replace(to_replace=np.nan, value=0, inplace=True)\n",
        "test.replace(to_replace=np.nan, value=0, inplace=True)"
      ],
      "execution_count": 0,
      "outputs": []
    },
    {
      "metadata": {
        "id": "Onc4ass1gfSs",
        "colab_type": "text"
      },
      "cell_type": "markdown",
      "source": [
        "### Split data in train and validation by date\n",
        "* This time based split will result in approximated 85% train and 15% validation."
      ]
    },
    {
      "metadata": {
        "id": "1SYODK1PgfSu",
        "colab_type": "code",
        "colab": {}
      },
      "cell_type": "code",
      "source": [
        "X_train = train[train['date']<=datetime.date(2017, 5, 31)]\n",
        "X_val = train[train['date']>datetime.date(2017, 5, 31)]"
      ],
      "execution_count": 0,
      "outputs": []
    },
    {
      "metadata": {
        "id": "VS-K1wgngfSx",
        "colab_type": "code",
        "colab": {}
      },
      "cell_type": "code",
      "source": [
        "# Get labels\n",
        "Y_train = X_train['transactionRevenue'].values\n",
        "Y_val = X_val['transactionRevenue'].values\n",
        "X_train = X_train.drop(['transactionRevenue'], axis=1)\n",
        "X_val = X_val.drop(['transactionRevenue'], axis=1)\n",
        "test = test.drop(['transactionRevenue'], axis=1)\n",
        "# Log transform the labels\n",
        "Y_train = np.log1p(Y_train)\n",
        "Y_val = np.log1p(Y_val)"
      ],
      "execution_count": 0,
      "outputs": []
    },
    {
      "metadata": {
        "id": "2OScDWM3gfS0",
        "colab_type": "code",
        "colab": {}
      },
      "cell_type": "code",
      "source": [
        "reduce_features = ['city', 'medium', 'channelGrouping', \n",
        "                    'region', 'subContinent', 'country', 'date']\n",
        "X_train = X_train.drop(reduce_features, axis=1)\n",
        "X_val = X_val.drop(reduce_features, axis=1)\n",
        "test = test.drop(reduce_features, axis=1)"
      ],
      "execution_count": 0,
      "outputs": []
    },
    {
      "metadata": {
        "id": "NUBwKWWTgfS2",
        "colab_type": "text"
      },
      "cell_type": "markdown",
      "source": [
        "### Normalize the data"
      ]
    },
    {
      "metadata": {
        "id": "1KhdVwbjgfS2",
        "colab_type": "code",
        "colab": {}
      },
      "cell_type": "code",
      "source": [
        "normalized_features = ['visitNumber', 'hits', 'pageviews']\n",
        "\n",
        "# Normalize using Min-Max scaling\n",
        "scaler = preprocessing.MinMaxScaler()\n",
        "X_train[normalized_features] = scaler.fit_transform(X_train[normalized_features])\n",
        "X_val[normalized_features] = scaler.transform(X_val[normalized_features])\n",
        "test[normalized_features] = scaler.transform(test[normalized_features])"
      ],
      "execution_count": 0,
      "outputs": []
    },
    {
      "metadata": {
        "id": "D1UgP2DpgfS5",
        "colab_type": "code",
        "colab": {}
      },
      "cell_type": "code",
      "source": [
        "X_train.head()"
      ],
      "execution_count": 0,
      "outputs": []
    },
    {
      "metadata": {
        "id": "jRYwAejKgfS8",
        "colab_type": "text"
      },
      "cell_type": "markdown",
      "source": [
        "### Model\n",
        "* Now let's try some deep learning to model our data."
      ]
    },
    {
      "metadata": {
        "id": "U9NC9Ao0gfS_",
        "colab_type": "code",
        "colab": {}
      },
      "cell_type": "code",
      "source": [
        "BATCH_SIZE = 64\n",
        "EPOCHS = 70\n",
        "LEARNING_RATE = 0.0001"
      ],
      "execution_count": 0,
      "outputs": []
    },
    {
      "metadata": {
        "id": "FFtTMXRhgfTC",
        "colab_type": "code",
        "colab": {}
      },
      "cell_type": "code",
      "source": [
        "model = Sequential()\n",
        "model.add(Dense(128, kernel_initializer='glorot_normal', activation='relu', input_dim=X_train.shape[1]))\n",
        "model.add(Dense(64, kernel_initializer='glorot_normal', activation='relu'))\n",
        "model.add(Dense(16, kernel_initializer='glorot_normal', activation='relu'))\n",
        "model.add(Dense(1))"
      ],
      "execution_count": 0,
      "outputs": []
    },
    {
      "metadata": {
        "id": "yltU7Fl9gfTF",
        "colab_type": "code",
        "colab": {}
      },
      "cell_type": "code",
      "source": [
        "adam = optimizers.adam(lr=LEARNING_RATE)\n",
        "model.compile(loss='mse', optimizer=adam)"
      ],
      "execution_count": 0,
      "outputs": []
    },
    {
      "metadata": {
        "id": "UrEbtKiHgfTH",
        "colab_type": "code",
        "colab": {}
      },
      "cell_type": "code",
      "source": [
        "print('Dataset size: %s' % X_train.shape[0])\n",
        "print('Epochs: %s' % EPOCHS)\n",
        "print('Learning rate: %s' % LEARNING_RATE)\n",
        "print('Batch size: %s' % BATCH_SIZE)\n",
        "print('Input dimension: %s' % X_train.shape[1])\n",
        "print('Features used: %s' % train.columns.values)"
      ],
      "execution_count": 0,
      "outputs": []
    },
    {
      "metadata": {
        "id": "vZTNdZaRgfTK",
        "colab_type": "code",
        "colab": {}
      },
      "cell_type": "code",
      "source": [
        "model.summary()"
      ],
      "execution_count": 0,
      "outputs": []
    },
    {
      "metadata": {
        "id": "oYGXY8QkgfTN",
        "colab_type": "code",
        "colab": {}
      },
      "cell_type": "code",
      "source": [
        "history = model.fit(x=X_train.values, y=Y_train, batch_size=BATCH_SIZE, epochs=EPOCHS, \n",
        "                    verbose=1, validation_data=(X_val.values, Y_val))"
      ],
      "execution_count": 0,
      "outputs": []
    },
    {
      "metadata": {
        "id": "QCymhd9CgfTO",
        "colab_type": "code",
        "colab": {
          "base_uri": "https://localhost:8080/",
          "height": 457
        },
        "outputId": "d99d2a66-febf-4992-986e-aa8d9f713789"
      },
      "cell_type": "code",
      "source": [
        "plot_metrics(history.history['loss'], history.history['val_loss'])"
      ],
      "execution_count": 0,
      "outputs": [
        {
          "output_type": "display_data",
          "data": {
            "image/png": "[encoded data removed]",
            "text/plain": [
              "<matplotlib.figure.Figure at 0x7fda4c033be0>"
            ]
          },
          "metadata": {
            "tags": []
          }
        }
      ]
    },
    {
      "metadata": {
        "id": "Q_sn-jJAgfTQ",
        "colab_type": "code",
        "colab": {}
      },
      "cell_type": "code",
      "source": [
        "predictions = model.predict(test)\n",
        "\n",
        "submission = pd.DataFrame({\"fullVisitorId\":test_ids})\n",
        "predictions[predictions<0] = 0\n",
        "submission[\"PredictedLogRevenue\"] = predictions\n",
        "# submission[\"PredictedLogRevenue\"] = np.expm1(predictions)\n",
        "submission = submission.groupby(\"fullVisitorId\")[\"PredictedLogRevenue\"].sum().reset_index()\n",
        "submission.columns = [\"fullVisitorId\", \"PredictedLogRevenue\"]\n",
        "# submission[\"PredictedLogRevenue\"] = np.log1p(submission[\"PredictedLogRevenue\"])\n",
        "submission[\"PredictedLogRevenue\"] = submission[\"PredictedLogRevenue\"]\n",
        "submission.to_csv(\"submission.csv\", index=False)"
      ],
      "execution_count": 0,
      "outputs": []
    },
    {
      "metadata": {
        "id": "poQY8KrhgfTT",
        "colab_type": "code",
        "colab": {}
      },
      "cell_type": "code",
      "source": [
        "submission.head(10)"
      ],
      "execution_count": 0,
      "outputs": []
    },
    {
      "metadata": {
        "id": "S1Lj6wAPmT8j",
        "colab_type": "code",
        "colab": {}
      },
      "cell_type": "code",
      "source": [
        ""
      ],
      "execution_count": 0,
      "outputs": []
    }
  ]
}