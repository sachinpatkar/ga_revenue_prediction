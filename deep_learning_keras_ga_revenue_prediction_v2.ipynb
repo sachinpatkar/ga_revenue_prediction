{
  "nbformat": 4,
  "nbformat_minor": 0,
  "metadata": {
    "colab": {
      "name": "deep-learning-keras-ga-revenue-prediction_v2.ipynb",
      "version": "0.3.2",
      "provenance": [],
      "collapsed_sections": [
        "9EVglgsPgfR5",
        "JG-orYidgfR8",
        "vqylfAPFgfSA",
        "Oly6SDYggfSA",
        "7YXnXP6IgfSE",
        "xYvrYGZVgfSK",
        "HIc1xULIgfSQ",
        "_NdQq63MgfSU",
        "fUC3jMoigfSU",
        "QbDQlTacgfSX",
        "ya1IzcoigfSd",
        "95Md2f8RgfSl",
        "Onc4ass1gfSs",
        "NUBwKWWTgfS2",
        "jRYwAejKgfS8"
      ],
      "include_colab_link": true
    },
    "kernelspec": {
      "display_name": "Python 3",
      "language": "python",
      "name": "python3"
    },
    "accelerator": "GPU"
  },
  "cells": [
    {
      "cell_type": "markdown",
      "metadata": {
        "id": "view-in-github",
        "colab_type": "text"
      },
      "source": [
        "[View in Colaboratory](https://colab.research.google.com/github/sachinpatkar/ga_revenue_prediction/blob/master/deep_learning_keras_ga_revenue_prediction_v2.ipynb)"
      ]
    },
    {
      "metadata": {
        "id": "iWzQ3b18gfRc",
        "colab_type": "text"
      },
      "cell_type": "markdown",
      "source": [
        "## Deep Learning with Keras - Google Analytics Customer Revenue Prediction\n",
        "\n",
        "*   List item\n",
        "*   List item\n",
        "\n",
        "\n",
        "* Note: this is just a starting point, there's a lot of work to be done.\n",
        "* A begginer version with [LGBM](https://www.kaggle.com/dimitreoliveira/lgbm-google-store-revenue-prediction)"
      ]
    },
    {
      "metadata": {
        "id": "PtIKTJ9DgfRf",
        "colab_type": "text"
      },
      "cell_type": "markdown",
      "source": [
        "### Loading data google drive"
      ]
    },
    {
      "metadata": {
        "id": "DcmTOYpVQnBn",
        "colab_type": "code",
        "colab": {
          "base_uri": "https://localhost:8080/",
          "height": 122
        },
        "outputId": "52a3d8c4-c221-40f2-d90c-744f55b881f1"
      },
      "cell_type": "code",
      "source": [
        "import os\n",
        "if not os.path.exists('/content/gdrive'):\n",
        "  from google.colab import drive\n",
        "  drive.mount('/content/gdrive')"
      ],
      "execution_count": 1,
      "outputs": [
        {
          "output_type": "stream",
          "text": [
            "Go to this URL in a browser: https://accounts.google.com/o/oauth2/auth?client_id=947318989803-6bn6qk8qdgf4n4g3pfee6491hc0brc4i.apps.googleusercontent.com&redirect_uri=urn%3Aietf%3Awg%3Aoauth%3A2.0%3Aoob&scope=email%20https%3A%2F%2Fwww.googleapis.com%2Fauth%2Fdocs.test%20https%3A%2F%2Fwww.googleapis.com%2Fauth%2Fdrive%20https%3A%2F%2Fwww.googleapis.com%2Fauth%2Fdrive.photos.readonly%20https%3A%2F%2Fwww.googleapis.com%2Fauth%2Fpeopleapi.readonly&response_type=code\n",
            "\n",
            "Enter your authorization code:\n",
            "··········\n",
            "Mounted at /content/gdrive\n"
          ],
          "name": "stdout"
        }
      ]
    },
    {
      "metadata": {
        "id": "HtkvbxVbQ3zz",
        "colab_type": "code",
        "colab": {}
      },
      "cell_type": "code",
      "source": [
        "if not os.path.exists('/content/gdrive/My Drive/GACRP'):\n",
        "  os.makedirs('/content/gdrive/My Drive/GACRP')\n",
        "os.chdir('/content/gdrive/My Drive/GACRP')"
      ],
      "execution_count": 0,
      "outputs": []
    },
    {
      "metadata": {
        "id": "CsjmfJMoirB_",
        "colab_type": "code",
        "colab": {
          "base_uri": "https://localhost:8080/",
          "height": 51
        },
        "outputId": "532bc825-843c-459a-e094-b9a7219e00d9"
      },
      "cell_type": "code",
      "source": [
        "!wget https://www.dropbox.com/s/4p74dtbpdf54o5p/all.zip\n"
      ],
      "execution_count": 3,
      "outputs": [
        {
          "output_type": "stream",
          "text": [
            "\n",
            "Redirecting output to ‘wget-log’.\n"
          ],
          "name": "stdout"
        }
      ]
    },
    {
      "metadata": {
        "id": "AHs1yeREjVEG",
        "colab_type": "code",
        "colab": {
          "base_uri": "https://localhost:8080/",
          "height": 68
        },
        "outputId": "b7cc46f8-c800-4666-c604-bdb62f6e37f6"
      },
      "cell_type": "code",
      "source": [
        "ls -l"
      ],
      "execution_count": 4,
      "outputs": [
        {
          "output_type": "stream",
          "text": [
            "total 118846\n",
            "-rw------- 1 root root 121693383 Sep 23 06:59 all.zip\n",
            "-rw------- 1 root root      4203 Sep 23 06:59 wget-log\n"
          ],
          "name": "stdout"
        }
      ]
    },
    {
      "metadata": {
        "id": "IfLVTou2jdJB",
        "colab_type": "code",
        "colab": {}
      },
      "cell_type": "code",
      "source": [
        "if not os.path.exists('/content/gdrive/My Drive/GACRP/input'):\n",
        "  os.makedirs('/content/gdrive/My Drive/GACRP/input')\n",
        "os.chdir('/content/gdrive/My Drive/GACRP/input')"
      ],
      "execution_count": 0,
      "outputs": []
    },
    {
      "metadata": {
        "id": "VbvL2R3GjYrG",
        "colab_type": "code",
        "colab": {
          "base_uri": "https://localhost:8080/",
          "height": 85
        },
        "outputId": "226b4464-5eec-4da0-f6f5-e46a99e81dd8"
      },
      "cell_type": "code",
      "source": [
        "!unzip '/content/gdrive/My Drive/GACRP/all.zip'"
      ],
      "execution_count": 6,
      "outputs": [
        {
          "output_type": "stream",
          "text": [
            "Archive:  /content/gdrive/My Drive/GACRP/all.zip\n",
            "  inflating: train.csv               \n",
            "  inflating: sample_submission.csv   \n",
            "  inflating: test.csv                \n"
          ],
          "name": "stdout"
        }
      ]
    },
    {
      "metadata": {
        "id": "O1XZdbAfjrOO",
        "colab_type": "code",
        "colab": {
          "base_uri": "https://localhost:8080/",
          "height": 34
        },
        "outputId": "0662a3f0-b51b-44c5-d54e-48b1a0be21d8"
      },
      "cell_type": "code",
      "source": [
        "pwd"
      ],
      "execution_count": 7,
      "outputs": [
        {
          "output_type": "execute_result",
          "data": {
            "text/plain": [
              "'/content/gdrive/My Drive/GACRP/input'"
            ]
          },
          "metadata": {
            "tags": []
          },
          "execution_count": 7
        }
      ]
    },
    {
      "metadata": {
        "id": "dxAKIadTgfRg",
        "colab_type": "code",
        "colab": {
          "base_uri": "https://localhost:8080/",
          "height": 34
        },
        "outputId": "4993c602-5747-49c2-d30b-322501e60614"
      },
      "cell_type": "code",
      "source": [
        "import os\n",
        "import json\n",
        "import datetime\n",
        "import numpy as np\n",
        "import pandas as pd\n",
        "import matplotlib.pyplot as plt\n",
        "from pandas.io.json import json_normalize\n",
        "from sklearn import preprocessing\n",
        "from sklearn.model_selection import train_test_split\n",
        "from keras.models import Sequential\n",
        "from keras.layers import Dense, Dropout, BatchNormalization, Activation\n",
        "from keras import optimizers\n",
        "\n",
        "%matplotlib inline\n",
        "pd.options.display.max_columns = 999"
      ],
      "execution_count": 8,
      "outputs": [
        {
          "output_type": "stream",
          "text": [
            "Using TensorFlow backend.\n"
          ],
          "name": "stderr"
        }
      ]
    },
    {
      "metadata": {
        "id": "Hf9sR1zqgfRm",
        "colab_type": "text"
      },
      "cell_type": "markdown",
      "source": [
        "### Auxiliar functions"
      ]
    },
    {
      "metadata": {
        "id": "pxmqFA30gfRn",
        "colab_type": "code",
        "colab": {}
      },
      "cell_type": "code",
      "source": [
        "def add_time_features(df):\n",
        "    df['date'] = pd.to_datetime(df['date'], format='%Y%m%d', errors='ignore')\n",
        "    df['year'] = df['date'].apply(lambda x: x.year)\n",
        "    df['month'] = df['date'].apply(lambda x: x.month)\n",
        "    df['day'] = df['date'].apply(lambda x: x.day)\n",
        "    df['weekday'] = df['date'].apply(lambda x: x.weekday())\n",
        "    \n",
        "    return df\n",
        "\n",
        "\n",
        "def plot_metrics(loss, val_loss):\n",
        "    fig, (ax1) = plt.subplots(1, 1, sharex='col', figsize=(20,7))\n",
        "    ax1.plot(loss, label='Train loss')\n",
        "    ax1.plot(val_loss, label='Validation loss')\n",
        "    ax1.legend(loc='best')\n",
        "    ax1.set_title('Loss')\n",
        "    plt.xlabel('Epochs')"
      ],
      "execution_count": 0,
      "outputs": []
    },
    {
      "metadata": {
        "id": "2pdHafYhgfRs",
        "colab_type": "text"
      },
      "cell_type": "markdown",
      "source": [
        "Function to load and convert files borrowed from this [kernel](https://www.kaggle.com/julian3833/1-quick-start-read-csv-and-flatten-json-fields/notebook), thanks!"
      ]
    },
    {
      "metadata": {
        "id": "P3b9MnJEXfJ2",
        "colab_type": "code",
        "colab": {}
      },
      "cell_type": "code",
      "source": [
        "train_csv_path=\"/content/gdrive/My Drive/GACRP/input/train.csv\"\n",
        "test_csv_path=\"/content/gdrive/My Drive/GACRP/input/test.csv\""
      ],
      "execution_count": 0,
      "outputs": []
    },
    {
      "metadata": {
        "id": "630G5NvcY7-T",
        "colab_type": "code",
        "colab": {}
      },
      "cell_type": "code",
      "source": [
        "pwd = os.getcwd()\n",
        "os.chdir(os.path.dirname(train_csv_path))"
      ],
      "execution_count": 0,
      "outputs": []
    },
    {
      "metadata": {
        "id": "HIk1zOAngfRu",
        "colab_type": "code",
        "colab": {}
      },
      "cell_type": "code",
      "source": [
        "def load_df(train_csv_path, nrows=None):\n",
        "    JSON_COLUMNS = ['device', 'geoNetwork', 'totals', 'trafficSource']\n",
        "\n",
        "    df = pd.read_csv(train_csv_path, dtype={'fullVisitorId': 'str'}, nrows=nrows)\n",
        "\n",
        "    for column in JSON_COLUMNS:\n",
        "        df = df.join(pd.DataFrame(df.pop(column).apply(pd.io.json.loads).values.tolist(), index=df.index))\n",
        "\n",
        "    return df"
      ],
      "execution_count": 0,
      "outputs": []
    },
    {
      "metadata": {
        "id": "_5NDyeqFZHcw",
        "colab_type": "code",
        "colab": {}
      },
      "cell_type": "code",
      "source": [
        "os.chdir(pwd)"
      ],
      "execution_count": 0,
      "outputs": []
    },
    {
      "metadata": {
        "id": "9aWUDM34gfRy",
        "colab_type": "code",
        "colab": {}
      },
      "cell_type": "code",
      "source": [
        "train = load_df(train_csv_path)\n",
        "test = load_df(test_csv_path)"
      ],
      "execution_count": 0,
      "outputs": []
    },
    {
      "metadata": {
        "id": "xqP31GhPgfR2",
        "colab_type": "text"
      },
      "cell_type": "markdown",
      "source": [
        "### About the train data"
      ]
    },
    {
      "metadata": {
        "id": "PmEo6aEagfR3",
        "colab_type": "code",
        "colab": {
          "base_uri": "https://localhost:8080/",
          "height": 477
        },
        "outputId": "1dd49f14-5bc1-4688-f52b-fc16d1754b30"
      },
      "cell_type": "code",
      "source": [
        "train.head()"
      ],
      "execution_count": 12,
      "outputs": [
        {
          "output_type": "execute_result",
          "data": {
            "text/html": [
              "<div>\n",
              "<style scoped>\n",
              "    .dataframe tbody tr th:only-of-type {\n",
              "        vertical-align: middle;\n",
              "    }\n",
              "\n",
              "    .dataframe tbody tr th {\n",
              "        vertical-align: top;\n",
              "    }\n",
              "\n",
              "    .dataframe thead th {\n",
              "        text-align: right;\n",
              "    }\n",
              "</style>\n",
              "<table border=\"1\" class=\"dataframe\">\n",
              "  <thead>\n",
              "    <tr style=\"text-align: right;\">\n",
              "      <th></th>\n",
              "      <th>channelGrouping</th>\n",
              "      <th>date</th>\n",
              "      <th>fullVisitorId</th>\n",
              "      <th>sessionId</th>\n",
              "      <th>socialEngagementType</th>\n",
              "      <th>visitId</th>\n",
              "      <th>visitNumber</th>\n",
              "      <th>visitStartTime</th>\n",
              "      <th>browser</th>\n",
              "      <th>browserSize</th>\n",
              "      <th>browserVersion</th>\n",
              "      <th>deviceCategory</th>\n",
              "      <th>flashVersion</th>\n",
              "      <th>isMobile</th>\n",
              "      <th>language</th>\n",
              "      <th>mobileDeviceBranding</th>\n",
              "      <th>mobileDeviceInfo</th>\n",
              "      <th>mobileDeviceMarketingName</th>\n",
              "      <th>mobileDeviceModel</th>\n",
              "      <th>mobileInputSelector</th>\n",
              "      <th>operatingSystem</th>\n",
              "      <th>operatingSystemVersion</th>\n",
              "      <th>screenColors</th>\n",
              "      <th>screenResolution</th>\n",
              "      <th>city</th>\n",
              "      <th>cityId</th>\n",
              "      <th>continent</th>\n",
              "      <th>country</th>\n",
              "      <th>latitude</th>\n",
              "      <th>longitude</th>\n",
              "      <th>metro</th>\n",
              "      <th>networkDomain</th>\n",
              "      <th>networkLocation</th>\n",
              "      <th>region</th>\n",
              "      <th>subContinent</th>\n",
              "      <th>bounces</th>\n",
              "      <th>hits</th>\n",
              "      <th>newVisits</th>\n",
              "      <th>pageviews</th>\n",
              "      <th>transactionRevenue</th>\n",
              "      <th>visits</th>\n",
              "      <th>adContent</th>\n",
              "      <th>adwordsClickInfo</th>\n",
              "      <th>campaign</th>\n",
              "      <th>campaignCode</th>\n",
              "      <th>isTrueDirect</th>\n",
              "      <th>keyword</th>\n",
              "      <th>medium</th>\n",
              "      <th>referralPath</th>\n",
              "      <th>source</th>\n",
              "    </tr>\n",
              "  </thead>\n",
              "  <tbody>\n",
              "    <tr>\n",
              "      <th>0</th>\n",
              "      <td>Organic Search</td>\n",
              "      <td>20160902</td>\n",
              "      <td>1131660440785968503</td>\n",
              "      <td>1131660440785968503_1472830385</td>\n",
              "      <td>Not Socially Engaged</td>\n",
              "      <td>1472830385</td>\n",
              "      <td>1</td>\n",
              "      <td>1472830385</td>\n",
              "      <td>Chrome</td>\n",
              "      <td>not available in demo dataset</td>\n",
              "      <td>not available in demo dataset</td>\n",
              "      <td>desktop</td>\n",
              "      <td>not available in demo dataset</td>\n",
              "      <td>False</td>\n",
              "      <td>not available in demo dataset</td>\n",
              "      <td>not available in demo dataset</td>\n",
              "      <td>not available in demo dataset</td>\n",
              "      <td>not available in demo dataset</td>\n",
              "      <td>not available in demo dataset</td>\n",
              "      <td>not available in demo dataset</td>\n",
              "      <td>Windows</td>\n",
              "      <td>not available in demo dataset</td>\n",
              "      <td>not available in demo dataset</td>\n",
              "      <td>not available in demo dataset</td>\n",
              "      <td>Izmir</td>\n",
              "      <td>not available in demo dataset</td>\n",
              "      <td>Asia</td>\n",
              "      <td>Turkey</td>\n",
              "      <td>not available in demo dataset</td>\n",
              "      <td>not available in demo dataset</td>\n",
              "      <td>(not set)</td>\n",
              "      <td>ttnet.com.tr</td>\n",
              "      <td>not available in demo dataset</td>\n",
              "      <td>Izmir</td>\n",
              "      <td>Western Asia</td>\n",
              "      <td>1</td>\n",
              "      <td>1</td>\n",
              "      <td>1</td>\n",
              "      <td>1</td>\n",
              "      <td>NaN</td>\n",
              "      <td>1</td>\n",
              "      <td>NaN</td>\n",
              "      <td>{'criteriaParameters': 'not available in demo ...</td>\n",
              "      <td>(not set)</td>\n",
              "      <td>NaN</td>\n",
              "      <td>NaN</td>\n",
              "      <td>(not provided)</td>\n",
              "      <td>organic</td>\n",
              "      <td>NaN</td>\n",
              "      <td>google</td>\n",
              "    </tr>\n",
              "    <tr>\n",
              "      <th>1</th>\n",
              "      <td>Organic Search</td>\n",
              "      <td>20160902</td>\n",
              "      <td>377306020877927890</td>\n",
              "      <td>377306020877927890_1472880147</td>\n",
              "      <td>Not Socially Engaged</td>\n",
              "      <td>1472880147</td>\n",
              "      <td>1</td>\n",
              "      <td>1472880147</td>\n",
              "      <td>Firefox</td>\n",
              "      <td>not available in demo dataset</td>\n",
              "      <td>not available in demo dataset</td>\n",
              "      <td>desktop</td>\n",
              "      <td>not available in demo dataset</td>\n",
              "      <td>False</td>\n",
              "      <td>not available in demo dataset</td>\n",
              "      <td>not available in demo dataset</td>\n",
              "      <td>not available in demo dataset</td>\n",
              "      <td>not available in demo dataset</td>\n",
              "      <td>not available in demo dataset</td>\n",
              "      <td>not available in demo dataset</td>\n",
              "      <td>Macintosh</td>\n",
              "      <td>not available in demo dataset</td>\n",
              "      <td>not available in demo dataset</td>\n",
              "      <td>not available in demo dataset</td>\n",
              "      <td>not available in demo dataset</td>\n",
              "      <td>not available in demo dataset</td>\n",
              "      <td>Oceania</td>\n",
              "      <td>Australia</td>\n",
              "      <td>not available in demo dataset</td>\n",
              "      <td>not available in demo dataset</td>\n",
              "      <td>not available in demo dataset</td>\n",
              "      <td>dodo.net.au</td>\n",
              "      <td>not available in demo dataset</td>\n",
              "      <td>not available in demo dataset</td>\n",
              "      <td>Australasia</td>\n",
              "      <td>1</td>\n",
              "      <td>1</td>\n",
              "      <td>1</td>\n",
              "      <td>1</td>\n",
              "      <td>NaN</td>\n",
              "      <td>1</td>\n",
              "      <td>NaN</td>\n",
              "      <td>{'criteriaParameters': 'not available in demo ...</td>\n",
              "      <td>(not set)</td>\n",
              "      <td>NaN</td>\n",
              "      <td>NaN</td>\n",
              "      <td>(not provided)</td>\n",
              "      <td>organic</td>\n",
              "      <td>NaN</td>\n",
              "      <td>google</td>\n",
              "    </tr>\n",
              "    <tr>\n",
              "      <th>2</th>\n",
              "      <td>Organic Search</td>\n",
              "      <td>20160902</td>\n",
              "      <td>3895546263509774583</td>\n",
              "      <td>3895546263509774583_1472865386</td>\n",
              "      <td>Not Socially Engaged</td>\n",
              "      <td>1472865386</td>\n",
              "      <td>1</td>\n",
              "      <td>1472865386</td>\n",
              "      <td>Chrome</td>\n",
              "      <td>not available in demo dataset</td>\n",
              "      <td>not available in demo dataset</td>\n",
              "      <td>desktop</td>\n",
              "      <td>not available in demo dataset</td>\n",
              "      <td>False</td>\n",
              "      <td>not available in demo dataset</td>\n",
              "      <td>not available in demo dataset</td>\n",
              "      <td>not available in demo dataset</td>\n",
              "      <td>not available in demo dataset</td>\n",
              "      <td>not available in demo dataset</td>\n",
              "      <td>not available in demo dataset</td>\n",
              "      <td>Windows</td>\n",
              "      <td>not available in demo dataset</td>\n",
              "      <td>not available in demo dataset</td>\n",
              "      <td>not available in demo dataset</td>\n",
              "      <td>Madrid</td>\n",
              "      <td>not available in demo dataset</td>\n",
              "      <td>Europe</td>\n",
              "      <td>Spain</td>\n",
              "      <td>not available in demo dataset</td>\n",
              "      <td>not available in demo dataset</td>\n",
              "      <td>(not set)</td>\n",
              "      <td>unknown.unknown</td>\n",
              "      <td>not available in demo dataset</td>\n",
              "      <td>Community of Madrid</td>\n",
              "      <td>Southern Europe</td>\n",
              "      <td>1</td>\n",
              "      <td>1</td>\n",
              "      <td>1</td>\n",
              "      <td>1</td>\n",
              "      <td>NaN</td>\n",
              "      <td>1</td>\n",
              "      <td>NaN</td>\n",
              "      <td>{'criteriaParameters': 'not available in demo ...</td>\n",
              "      <td>(not set)</td>\n",
              "      <td>NaN</td>\n",
              "      <td>NaN</td>\n",
              "      <td>(not provided)</td>\n",
              "      <td>organic</td>\n",
              "      <td>NaN</td>\n",
              "      <td>google</td>\n",
              "    </tr>\n",
              "    <tr>\n",
              "      <th>3</th>\n",
              "      <td>Organic Search</td>\n",
              "      <td>20160902</td>\n",
              "      <td>4763447161404445595</td>\n",
              "      <td>4763447161404445595_1472881213</td>\n",
              "      <td>Not Socially Engaged</td>\n",
              "      <td>1472881213</td>\n",
              "      <td>1</td>\n",
              "      <td>1472881213</td>\n",
              "      <td>UC Browser</td>\n",
              "      <td>not available in demo dataset</td>\n",
              "      <td>not available in demo dataset</td>\n",
              "      <td>desktop</td>\n",
              "      <td>not available in demo dataset</td>\n",
              "      <td>False</td>\n",
              "      <td>not available in demo dataset</td>\n",
              "      <td>not available in demo dataset</td>\n",
              "      <td>not available in demo dataset</td>\n",
              "      <td>not available in demo dataset</td>\n",
              "      <td>not available in demo dataset</td>\n",
              "      <td>not available in demo dataset</td>\n",
              "      <td>Linux</td>\n",
              "      <td>not available in demo dataset</td>\n",
              "      <td>not available in demo dataset</td>\n",
              "      <td>not available in demo dataset</td>\n",
              "      <td>not available in demo dataset</td>\n",
              "      <td>not available in demo dataset</td>\n",
              "      <td>Asia</td>\n",
              "      <td>Indonesia</td>\n",
              "      <td>not available in demo dataset</td>\n",
              "      <td>not available in demo dataset</td>\n",
              "      <td>not available in demo dataset</td>\n",
              "      <td>unknown.unknown</td>\n",
              "      <td>not available in demo dataset</td>\n",
              "      <td>not available in demo dataset</td>\n",
              "      <td>Southeast Asia</td>\n",
              "      <td>1</td>\n",
              "      <td>1</td>\n",
              "      <td>1</td>\n",
              "      <td>1</td>\n",
              "      <td>NaN</td>\n",
              "      <td>1</td>\n",
              "      <td>NaN</td>\n",
              "      <td>{'criteriaParameters': 'not available in demo ...</td>\n",
              "      <td>(not set)</td>\n",
              "      <td>NaN</td>\n",
              "      <td>NaN</td>\n",
              "      <td>google + online</td>\n",
              "      <td>organic</td>\n",
              "      <td>NaN</td>\n",
              "      <td>google</td>\n",
              "    </tr>\n",
              "    <tr>\n",
              "      <th>4</th>\n",
              "      <td>Organic Search</td>\n",
              "      <td>20160902</td>\n",
              "      <td>27294437909732085</td>\n",
              "      <td>27294437909732085_1472822600</td>\n",
              "      <td>Not Socially Engaged</td>\n",
              "      <td>1472822600</td>\n",
              "      <td>2</td>\n",
              "      <td>1472822600</td>\n",
              "      <td>Chrome</td>\n",
              "      <td>not available in demo dataset</td>\n",
              "      <td>not available in demo dataset</td>\n",
              "      <td>mobile</td>\n",
              "      <td>not available in demo dataset</td>\n",
              "      <td>True</td>\n",
              "      <td>not available in demo dataset</td>\n",
              "      <td>not available in demo dataset</td>\n",
              "      <td>not available in demo dataset</td>\n",
              "      <td>not available in demo dataset</td>\n",
              "      <td>not available in demo dataset</td>\n",
              "      <td>not available in demo dataset</td>\n",
              "      <td>Android</td>\n",
              "      <td>not available in demo dataset</td>\n",
              "      <td>not available in demo dataset</td>\n",
              "      <td>not available in demo dataset</td>\n",
              "      <td>not available in demo dataset</td>\n",
              "      <td>not available in demo dataset</td>\n",
              "      <td>Europe</td>\n",
              "      <td>United Kingdom</td>\n",
              "      <td>not available in demo dataset</td>\n",
              "      <td>not available in demo dataset</td>\n",
              "      <td>not available in demo dataset</td>\n",
              "      <td>unknown.unknown</td>\n",
              "      <td>not available in demo dataset</td>\n",
              "      <td>not available in demo dataset</td>\n",
              "      <td>Northern Europe</td>\n",
              "      <td>1</td>\n",
              "      <td>1</td>\n",
              "      <td>NaN</td>\n",
              "      <td>1</td>\n",
              "      <td>NaN</td>\n",
              "      <td>1</td>\n",
              "      <td>NaN</td>\n",
              "      <td>{'criteriaParameters': 'not available in demo ...</td>\n",
              "      <td>(not set)</td>\n",
              "      <td>NaN</td>\n",
              "      <td>True</td>\n",
              "      <td>(not provided)</td>\n",
              "      <td>organic</td>\n",
              "      <td>NaN</td>\n",
              "      <td>google</td>\n",
              "    </tr>\n",
              "  </tbody>\n",
              "</table>\n",
              "</div>"
            ],
            "text/plain": [
              "  channelGrouping      date        fullVisitorId  \\\n",
              "0  Organic Search  20160902  1131660440785968503   \n",
              "1  Organic Search  20160902   377306020877927890   \n",
              "2  Organic Search  20160902  3895546263509774583   \n",
              "3  Organic Search  20160902  4763447161404445595   \n",
              "4  Organic Search  20160902    27294437909732085   \n",
              "\n",
              "                        sessionId  socialEngagementType     visitId  \\\n",
              "0  1131660440785968503_1472830385  Not Socially Engaged  1472830385   \n",
              "1   377306020877927890_1472880147  Not Socially Engaged  1472880147   \n",
              "2  3895546263509774583_1472865386  Not Socially Engaged  1472865386   \n",
              "3  4763447161404445595_1472881213  Not Socially Engaged  1472881213   \n",
              "4    27294437909732085_1472822600  Not Socially Engaged  1472822600   \n",
              "\n",
              "   visitNumber  visitStartTime     browser                    browserSize  \\\n",
              "0            1      1472830385      Chrome  not available in demo dataset   \n",
              "1            1      1472880147     Firefox  not available in demo dataset   \n",
              "2            1      1472865386      Chrome  not available in demo dataset   \n",
              "3            1      1472881213  UC Browser  not available in demo dataset   \n",
              "4            2      1472822600      Chrome  not available in demo dataset   \n",
              "\n",
              "                  browserVersion deviceCategory  \\\n",
              "0  not available in demo dataset        desktop   \n",
              "1  not available in demo dataset        desktop   \n",
              "2  not available in demo dataset        desktop   \n",
              "3  not available in demo dataset        desktop   \n",
              "4  not available in demo dataset         mobile   \n",
              "\n",
              "                    flashVersion  isMobile                       language  \\\n",
              "0  not available in demo dataset     False  not available in demo dataset   \n",
              "1  not available in demo dataset     False  not available in demo dataset   \n",
              "2  not available in demo dataset     False  not available in demo dataset   \n",
              "3  not available in demo dataset     False  not available in demo dataset   \n",
              "4  not available in demo dataset      True  not available in demo dataset   \n",
              "\n",
              "            mobileDeviceBranding               mobileDeviceInfo  \\\n",
              "0  not available in demo dataset  not available in demo dataset   \n",
              "1  not available in demo dataset  not available in demo dataset   \n",
              "2  not available in demo dataset  not available in demo dataset   \n",
              "3  not available in demo dataset  not available in demo dataset   \n",
              "4  not available in demo dataset  not available in demo dataset   \n",
              "\n",
              "       mobileDeviceMarketingName              mobileDeviceModel  \\\n",
              "0  not available in demo dataset  not available in demo dataset   \n",
              "1  not available in demo dataset  not available in demo dataset   \n",
              "2  not available in demo dataset  not available in demo dataset   \n",
              "3  not available in demo dataset  not available in demo dataset   \n",
              "4  not available in demo dataset  not available in demo dataset   \n",
              "\n",
              "             mobileInputSelector operatingSystem  \\\n",
              "0  not available in demo dataset         Windows   \n",
              "1  not available in demo dataset       Macintosh   \n",
              "2  not available in demo dataset         Windows   \n",
              "3  not available in demo dataset           Linux   \n",
              "4  not available in demo dataset         Android   \n",
              "\n",
              "          operatingSystemVersion                   screenColors  \\\n",
              "0  not available in demo dataset  not available in demo dataset   \n",
              "1  not available in demo dataset  not available in demo dataset   \n",
              "2  not available in demo dataset  not available in demo dataset   \n",
              "3  not available in demo dataset  not available in demo dataset   \n",
              "4  not available in demo dataset  not available in demo dataset   \n",
              "\n",
              "                screenResolution                           city  \\\n",
              "0  not available in demo dataset                          Izmir   \n",
              "1  not available in demo dataset  not available in demo dataset   \n",
              "2  not available in demo dataset                         Madrid   \n",
              "3  not available in demo dataset  not available in demo dataset   \n",
              "4  not available in demo dataset  not available in demo dataset   \n",
              "\n",
              "                          cityId continent         country  \\\n",
              "0  not available in demo dataset      Asia          Turkey   \n",
              "1  not available in demo dataset   Oceania       Australia   \n",
              "2  not available in demo dataset    Europe           Spain   \n",
              "3  not available in demo dataset      Asia       Indonesia   \n",
              "4  not available in demo dataset    Europe  United Kingdom   \n",
              "\n",
              "                        latitude                      longitude  \\\n",
              "0  not available in demo dataset  not available in demo dataset   \n",
              "1  not available in demo dataset  not available in demo dataset   \n",
              "2  not available in demo dataset  not available in demo dataset   \n",
              "3  not available in demo dataset  not available in demo dataset   \n",
              "4  not available in demo dataset  not available in demo dataset   \n",
              "\n",
              "                           metro    networkDomain  \\\n",
              "0                      (not set)     ttnet.com.tr   \n",
              "1  not available in demo dataset      dodo.net.au   \n",
              "2                      (not set)  unknown.unknown   \n",
              "3  not available in demo dataset  unknown.unknown   \n",
              "4  not available in demo dataset  unknown.unknown   \n",
              "\n",
              "                 networkLocation                         region  \\\n",
              "0  not available in demo dataset                          Izmir   \n",
              "1  not available in demo dataset  not available in demo dataset   \n",
              "2  not available in demo dataset            Community of Madrid   \n",
              "3  not available in demo dataset  not available in demo dataset   \n",
              "4  not available in demo dataset  not available in demo dataset   \n",
              "\n",
              "      subContinent bounces hits newVisits pageviews transactionRevenue visits  \\\n",
              "0     Western Asia       1    1         1         1                NaN      1   \n",
              "1      Australasia       1    1         1         1                NaN      1   \n",
              "2  Southern Europe       1    1         1         1                NaN      1   \n",
              "3   Southeast Asia       1    1         1         1                NaN      1   \n",
              "4  Northern Europe       1    1       NaN         1                NaN      1   \n",
              "\n",
              "  adContent                                   adwordsClickInfo   campaign  \\\n",
              "0       NaN  {'criteriaParameters': 'not available in demo ...  (not set)   \n",
              "1       NaN  {'criteriaParameters': 'not available in demo ...  (not set)   \n",
              "2       NaN  {'criteriaParameters': 'not available in demo ...  (not set)   \n",
              "3       NaN  {'criteriaParameters': 'not available in demo ...  (not set)   \n",
              "4       NaN  {'criteriaParameters': 'not available in demo ...  (not set)   \n",
              "\n",
              "  campaignCode isTrueDirect          keyword   medium referralPath  source  \n",
              "0          NaN          NaN   (not provided)  organic          NaN  google  \n",
              "1          NaN          NaN   (not provided)  organic          NaN  google  \n",
              "2          NaN          NaN   (not provided)  organic          NaN  google  \n",
              "3          NaN          NaN  google + online  organic          NaN  google  \n",
              "4          NaN         True   (not provided)  organic          NaN  google  "
            ]
          },
          "metadata": {
            "tags": []
          },
          "execution_count": 12
        }
      ]
    },
    {
      "metadata": {
        "id": "9EVglgsPgfR5",
        "colab_type": "text"
      },
      "cell_type": "markdown",
      "source": [
        "### This is how our data looks like"
      ]
    },
    {
      "metadata": {
        "id": "lE7x9ygegfR6",
        "colab_type": "code",
        "colab": {}
      },
      "cell_type": "code",
      "source": [
        "print('TRAIN SET')\n",
        "print('Rows: %s' % train.shape[0])\n",
        "print('Columns: %s' % train.shape[1])\n",
        "print('Features: %s' % train.columns.values)\n",
        "print()\n",
        "print('TEST SET')\n",
        "print('Rows: %s' % test.shape[0])\n",
        "print('Columns: %s' % test.shape[1])\n",
        "print('Features: %s' % test.columns.values)"
      ],
      "execution_count": 0,
      "outputs": []
    },
    {
      "metadata": {
        "id": "JG-orYidgfR8",
        "colab_type": "text"
      },
      "cell_type": "markdown",
      "source": [
        "### Feature engineering"
      ]
    },
    {
      "metadata": {
        "id": "ic6P6WpEgfR9",
        "colab_type": "code",
        "colab": {}
      },
      "cell_type": "code",
      "source": [
        "train = add_time_features(train)\n",
        "test = add_time_features(test)\n",
        "# Convert target feature to 'float' type.\n",
        "train[\"transactionRevenue\"] = train[\"transactionRevenue\"].astype('float')"
      ],
      "execution_count": 0,
      "outputs": []
    },
    {
      "metadata": {
        "id": "-4zcsYHKw4pK",
        "colab_type": "text"
      },
      "cell_type": "markdown",
      "source": [
        ""
      ]
    },
    {
      "metadata": {
        "id": "vqylfAPFgfSA",
        "colab_type": "text"
      },
      "cell_type": "markdown",
      "source": [
        "### Exploratory data analysis"
      ]
    },
    {
      "metadata": {
        "id": "Oly6SDYggfSA",
        "colab_type": "text"
      },
      "cell_type": "markdown",
      "source": [
        "#### Let's take a look at our target value through the time."
      ]
    },
    {
      "metadata": {
        "id": "XwwP7PNvgfSB",
        "colab_type": "code",
        "colab": {}
      },
      "cell_type": "code",
      "source": [
        "time_agg = train.groupby('date')['transactionRevenue'].agg(['count', 'sum'])\n",
        "year_agg = train.groupby('year')['transactionRevenue'].agg(['sum'])\n",
        "month_agg = train.groupby('month')['transactionRevenue'].agg(['sum'])\n",
        "day_agg = train.groupby('day')['transactionRevenue'].agg(['sum'])\n",
        "weekday_agg = train.groupby('weekday')['transactionRevenue'].agg(['count','sum'])"
      ],
      "execution_count": 0,
      "outputs": []
    },
    {
      "metadata": {
        "id": "7YXnXP6IgfSE",
        "colab_type": "text"
      },
      "cell_type": "markdown",
      "source": [
        "#### Here is sum of our tagert feature \"transactionRevenue\" through the time."
      ]
    },
    {
      "metadata": {
        "id": "QNi5NsMCgfSE",
        "colab_type": "code",
        "colab": {
          "base_uri": "https://localhost:8080/",
          "height": 445
        },
        "outputId": "eb8afd66-4484-4f1a-e910-c3791ea360a4"
      },
      "cell_type": "code",
      "source": [
        "plt.figure(figsize=(20,7))\n",
        "plt.ticklabel_format(axis='y', style='plain')\n",
        "plt.ylabel('Sum transactionRevenue', fontsize=12)\n",
        "plt.xlabel('Date', fontsize=12)\n",
        "plt.scatter(time_agg.index.values, time_agg['sum'])\n",
        "plt.show()"
      ],
      "execution_count": 16,
      "outputs": [
        {
          "output_type": "display_data",
          "data": {
            "image/png": "[encoded data removed]",
            "text/plain": [
              "<matplotlib.figure.Figure at 0x7fd3c2af96a0>"
            ]
          },
          "metadata": {
            "tags": []
          }
        }
      ]
    },
    {
      "metadata": {
        "id": "B4qNjNQ6gfSI",
        "colab_type": "text"
      },
      "cell_type": "markdown",
      "source": [
        "Seems we had more transactions on late 2016 and early 2017, date features seems to be a good addition to our model."
      ]
    },
    {
      "metadata": {
        "id": "xYvrYGZVgfSK",
        "colab_type": "text"
      },
      "cell_type": "markdown",
      "source": [
        "#### And here count of our target feature \"transactionRevenue\"."
      ]
    },
    {
      "metadata": {
        "id": "58OWKchjgfSL",
        "colab_type": "code",
        "colab": {
          "base_uri": "https://localhost:8080/",
          "height": 445
        },
        "outputId": "6e406aa6-a4b3-4859-f06a-36e7f239b3d2"
      },
      "cell_type": "code",
      "source": [
        "plt.figure(figsize=(20,7))\n",
        "plt.ticklabel_format(axis='y', style='plain')\n",
        "plt.ylabel('Frequency', fontsize=12)\n",
        "plt.xlabel('Date', fontsize=12)\n",
        "plt.scatter(time_agg.index.values, time_agg['count'])\n",
        "plt.show()"
      ],
      "execution_count": 17,
      "outputs": [
        {
          "output_type": "display_data",
          "data": {
            "image/png": "[encoded data removed]",
            "text/plain": [
              "<matplotlib.figure.Figure at 0x7fd3d77cf2b0>"
            ]
          },
          "metadata": {
            "tags": []
          }
        }
      ]
    },
    {
      "metadata": {
        "id": "Ud5eOmiYgfSP",
        "colab_type": "text"
      },
      "cell_type": "markdown",
      "source": [
        "Again we had higher frequency at a similar time period."
      ]
    },
    {
      "metadata": {
        "id": "HIc1xULIgfSQ",
        "colab_type": "text"
      },
      "cell_type": "markdown",
      "source": [
        "#### Let's take a look at other time features."
      ]
    },
    {
      "metadata": {
        "id": "wRwX_Mc2gfSR",
        "colab_type": "code",
        "colab": {
          "base_uri": "https://localhost:8080/",
          "height": 534
        },
        "outputId": "d5903d43-b416-429a-b9c3-35ecc57c65bb"
      },
      "cell_type": "code",
      "source": [
        "fig, ((ax1, ax2), (ax3, ax4)) = plt.subplots(nrows=2, ncols=2, figsize=(20,7))\n",
        "ax1.scatter(year_agg.index.values, year_agg['sum'])\n",
        "ax1.locator_params(nbins=2)\n",
        "ax1.ticklabel_format(axis='y', style='plain')\n",
        "ax1.set_xlabel('Year', fontsize=12)\n",
        "\n",
        "ax2.scatter(month_agg.index.values, month_agg['sum'])\n",
        "ax2.locator_params(nbins=12)\n",
        "ax2.ticklabel_format(axis='y', style='plain')\n",
        "ax2.set_xlabel('Month', fontsize=12)\n",
        "\n",
        "ax3.scatter(day_agg.index.values, day_agg['sum'])\n",
        "ax3.locator_params(nbins=10)\n",
        "ax3.ticklabel_format(axis='y', style='plain')\n",
        "ax3.set_xlabel('Day', fontsize=12)\n",
        "\n",
        "ax4.scatter(weekday_agg.index.values, weekday_agg['sum'])\n",
        "ax4.locator_params(nbins=7)\n",
        "ax4.ticklabel_format(axis='y', style='plain')\n",
        "ax4.set_xlabel('Weekday', fontsize=12)\n",
        "\n",
        "plt.tight_layout()\n",
        "plt.show()"
      ],
      "execution_count": 18,
      "outputs": [
        {
          "output_type": "display_data",
          "data": {
            "image/png": "[encoded data removed]",
            "text/plain": [
              "<matplotlib.figure.Figure at 0x7fd3d63f1c18>"
            ]
          },
          "metadata": {
            "tags": []
          }
        }
      ]
    },
    {
      "metadata": {
        "id": "_NdQq63MgfSU",
        "colab_type": "text"
      },
      "cell_type": "markdown",
      "source": [
        "### About the engineered time features\n",
        "* Year: It seem transactions had a large increase from 2016 to 2017\n",
        "* Month: Lager transaction on december seems ok, but about months but im not sure why high values on april and august (maybe because of easter (april) or Tax-free weekend, back-to-school season(august)?)\n",
        "* Day: Here it seems that not really important is going on, seems this features can be discarded.\n",
        "* Weekday: Something strange is going on here, seems that weekends have less transactions?"
      ]
    },
    {
      "metadata": {
        "id": "fUC3jMoigfSU",
        "colab_type": "text"
      },
      "cell_type": "markdown",
      "source": [
        "### The let's do some cleaning"
      ]
    },
    {
      "metadata": {
        "id": "QbDQlTacgfSX",
        "colab_type": "text"
      },
      "cell_type": "markdown",
      "source": [
        "### Drop unwanted columns"
      ]
    },
    {
      "metadata": {
        "id": "BvgXD_I_gfSZ",
        "colab_type": "code",
        "colab": {}
      },
      "cell_type": "code",
      "source": [
        "# Unwanted columns\n",
        "unwanted_columns = ['fullVisitorId', 'sessionId', 'visitId', 'visitStartTime', \n",
        "                    'browser', 'browserSize', 'browserVersion', 'flashVersion', \n",
        "                    'mobileDeviceInfo', 'mobileDeviceMarketingName', 'mobileDeviceModel', \n",
        "                    'mobileInputSelector', 'operatingSystemVersion', 'screenColors', \n",
        "                    'metro','networkDomain', 'networkLocation', 'adContent', 'campaign', \n",
        "                    'isTrueDirect', 'keyword', 'referralPath', 'source', 'operatingSystem', 'day']\n",
        "\n",
        "train = train.drop(unwanted_columns, axis=1)\n",
        "test = test.drop(unwanted_columns, axis=1)\n",
        "# Constant columns\n",
        "constant_columns = [c for c in train.columns if train[c].nunique()<=1]\n",
        "print('Columns with constant values: ', constant_columns)\n",
        "train = train.drop(constant_columns, axis=1)\n",
        "test = test.drop(constant_columns, axis=1)\n",
        "# Columns with more than 50% null data\n",
        "high_null_columns = [c for c in train.columns if train[c].count()<=len(train) * 0.5]\n",
        "print('Columns more than 50% null values: ', high_null_columns)\n",
        "train = train.drop(high_null_columns, axis=1)\n",
        "test = test.drop(high_null_columns, axis=1)"
      ],
      "execution_count": 0,
      "outputs": []
    },
    {
      "metadata": {
        "id": "zgG-p7jRtwZR",
        "colab_type": "code",
        "colab": {}
      },
      "cell_type": "code",
      "source": [
        "train.head()"
      ],
      "execution_count": 0,
      "outputs": []
    },
    {
      "metadata": {
        "id": "8AZpbwgEsSxj",
        "colab_type": "code",
        "colab": {}
      },
      "cell_type": "code",
      "source": [
        "\n"
      ],
      "execution_count": 0,
      "outputs": []
    },
    {
      "metadata": {
        "id": "Ws-kxg3fsvg5",
        "colab_type": "code",
        "colab": {}
      },
      "cell_type": "code",
      "source": [
        ""
      ],
      "execution_count": 0,
      "outputs": []
    },
    {
      "metadata": {
        "id": "ya1IzcoigfSd",
        "colab_type": "text"
      },
      "cell_type": "markdown",
      "source": [
        "### This is our new data with some cleaning and engineering."
      ]
    },
    {
      "metadata": {
        "id": "qLB_3eBygfSd",
        "colab_type": "code",
        "colab": {}
      },
      "cell_type": "code",
      "source": [
        "print('TRAIN SET')\n",
        "print('Rows: %s' % train.shape[0])\n",
        "print('Columns: %s' % train.shape[1])\n",
        "print('Features: %s' % train.columns.values)\n",
        "print()\n",
        "print('TEST SET')\n",
        "print('Rows: %s' % test.shape[0])\n",
        "print('Columns: %s' % test.shape[1])\n",
        "print('Features: %s' % test.columns.values)"
      ],
      "execution_count": 0,
      "outputs": []
    },
    {
      "metadata": {
        "id": "Lbh-uVwugfSh",
        "colab_type": "code",
        "colab": {}
      },
      "cell_type": "code",
      "source": [
        "train.head()"
      ],
      "execution_count": 0,
      "outputs": []
    },
    {
      "metadata": {
        "id": "95Md2f8RgfSl",
        "colab_type": "text"
      },
      "cell_type": "markdown",
      "source": [
        "### One-hot encode categorical data"
      ]
    },
    {
      "metadata": {
        "id": "zyPnIT0zgfSm",
        "colab_type": "code",
        "colab": {}
      },
      "cell_type": "code",
      "source": [
        "categorical_features = ['deviceCategory', 'isMobile', 'continent', 'month', 'weekday']\n",
        "train = pd.get_dummies(train, columns=categorical_features)\n",
        "test = pd.get_dummies(test, columns=categorical_features)"
      ],
      "execution_count": 0,
      "outputs": []
    },
    {
      "metadata": {
        "id": "aWvSpiqWgfSp",
        "colab_type": "code",
        "colab": {}
      },
      "cell_type": "code",
      "source": [
        "# align both data sets (by outer join), to make they have the same amount of features,\n",
        "# this is required because of the mismatched categorical values in train and test sets\n",
        "train, test = train.align(test, join='outer', axis=1)\n",
        "\n",
        "# replace the nan values added by align for 0\n",
        "train.replace(to_replace=np.nan, value=0, inplace=True)\n",
        "test.replace(to_replace=np.nan, value=0, inplace=True)"
      ],
      "execution_count": 0,
      "outputs": []
    },
    {
      "metadata": {
        "id": "Onc4ass1gfSs",
        "colab_type": "text"
      },
      "cell_type": "markdown",
      "source": [
        "### Split data in train and validation by date\n",
        "* This time based split will result in approximated 85% train and 15% validation."
      ]
    },
    {
      "metadata": {
        "id": "1SYODK1PgfSu",
        "colab_type": "code",
        "colab": {}
      },
      "cell_type": "code",
      "source": [
        "X_train = train[train['date']<=datetime.date(2017, 5, 31)]\n",
        "X_val = train[train['date']>datetime.date(2017, 5, 31)]"
      ],
      "execution_count": 0,
      "outputs": []
    },
    {
      "metadata": {
        "id": "VS-K1wgngfSx",
        "colab_type": "code",
        "colab": {}
      },
      "cell_type": "code",
      "source": [
        "# Get labels\n",
        "Y_train = X_train['transactionRevenue'].values\n",
        "Y_val = X_val['transactionRevenue'].values\n",
        "X_train = X_train.drop(['transactionRevenue'], axis=1)\n",
        "X_val = X_val.drop(['transactionRevenue'], axis=1)\n",
        "test = test.drop(['transactionRevenue'], axis=1)\n",
        "# Log transform the labels\n",
        "Y_train = np.log1p(Y_train)\n",
        "Y_val = np.log1p(Y_val)"
      ],
      "execution_count": 0,
      "outputs": []
    },
    {
      "metadata": {
        "id": "2OScDWM3gfS0",
        "colab_type": "code",
        "colab": {}
      },
      "cell_type": "code",
      "source": [
        "reduce_features = ['city', 'medium', 'channelGrouping', \n",
        "                    'region', 'subContinent', 'country', 'date']\n",
        "X_train = X_train.drop(reduce_features, axis=1)\n",
        "X_val = X_val.drop(reduce_features, axis=1)\n",
        "test = test.drop(reduce_features, axis=1)"
      ],
      "execution_count": 0,
      "outputs": []
    },
    {
      "metadata": {
        "id": "6J1qgU4Ou1H6",
        "colab_type": "code",
        "colab": {}
      },
      "cell_type": "code",
      "source": [
        ""
      ],
      "execution_count": 0,
      "outputs": []
    },
    {
      "metadata": {
        "id": "NUBwKWWTgfS2",
        "colab_type": "text"
      },
      "cell_type": "markdown",
      "source": [
        "### Normalize the data"
      ]
    },
    {
      "metadata": {
        "id": "1KhdVwbjgfS2",
        "colab_type": "code",
        "colab": {}
      },
      "cell_type": "code",
      "source": [
        "normalized_features = ['visitNumber', 'hits', 'pageviews']\n",
        "\n",
        "# Normalize using Min-Max scaling\n",
        "scaler = preprocessing.MinMaxScaler()\n",
        "X_train[normalized_features] = scaler.fit_transform(X_train[normalized_features])\n",
        "X_val[normalized_features] = scaler.transform(X_val[normalized_features])\n",
        "test[normalized_features] = scaler.transform(test[normalized_features])"
      ],
      "execution_count": 0,
      "outputs": []
    },
    {
      "metadata": {
        "id": "D1UgP2DpgfS5",
        "colab_type": "code",
        "colab": {}
      },
      "cell_type": "code",
      "source": [
        "X_train.head()"
      ],
      "execution_count": 0,
      "outputs": []
    },
    {
      "metadata": {
        "id": "jRYwAejKgfS8",
        "colab_type": "text"
      },
      "cell_type": "markdown",
      "source": [
        "### Model\n",
        "* Now let's try some deep learning to model our data."
      ]
    },
    {
      "metadata": {
        "id": "U9NC9Ao0gfS_",
        "colab_type": "code",
        "colab": {}
      },
      "cell_type": "code",
      "source": [
        "BATCH_SIZE = 64\n",
        "EPOCHS = 70\n",
        "LEARNING_RATE = 0.0001"
      ],
      "execution_count": 0,
      "outputs": []
    },
    {
      "metadata": {
        "id": "FFtTMXRhgfTC",
        "colab_type": "code",
        "colab": {}
      },
      "cell_type": "code",
      "source": [
        "model = Sequential()\n",
        "model.add(Dense(128, kernel_initializer='glorot_normal', activation='relu', input_dim=X_train.shape[1]))\n",
        "model.add(Dense(64, kernel_initializer='glorot_normal', activation='relu'))\n",
        "model.add(Dense(16, kernel_initializer='glorot_normal', activation='relu'))\n",
        "model.add(Dense(1))"
      ],
      "execution_count": 0,
      "outputs": []
    },
    {
      "metadata": {
        "id": "yltU7Fl9gfTF",
        "colab_type": "code",
        "colab": {}
      },
      "cell_type": "code",
      "source": [
        "adam = optimizers.adam(lr=LEARNING_RATE)\n",
        "model.compile(loss='mse', optimizer=adam)"
      ],
      "execution_count": 0,
      "outputs": []
    },
    {
      "metadata": {
        "id": "UrEbtKiHgfTH",
        "colab_type": "code",
        "colab": {}
      },
      "cell_type": "code",
      "source": [
        "print('Dataset size: %s' % X_train.shape[0])\n",
        "print('Epochs: %s' % EPOCHS)\n",
        "print('Learning rate: %s' % LEARNING_RATE)\n",
        "print('Batch size: %s' % BATCH_SIZE)\n",
        "print('Input dimension: %s' % X_train.shape[1])\n",
        "print('Features used: %s' % train.columns.values)"
      ],
      "execution_count": 0,
      "outputs": []
    },
    {
      "metadata": {
        "id": "vZTNdZaRgfTK",
        "colab_type": "code",
        "colab": {}
      },
      "cell_type": "code",
      "source": [
        "model.summary()"
      ],
      "execution_count": 0,
      "outputs": []
    },
    {
      "metadata": {
        "id": "oYGXY8QkgfTN",
        "colab_type": "code",
        "colab": {}
      },
      "cell_type": "code",
      "source": [
        "history = model.fit(x=X_train.values, y=Y_train, batch_size=BATCH_SIZE, epochs=EPOCHS, \n",
        "                    verbose=1, validation_data=(X_val.values, Y_val))"
      ],
      "execution_count": 0,
      "outputs": []
    },
    {
      "metadata": {
        "id": "QCymhd9CgfTO",
        "colab_type": "code",
        "colab": {
          "base_uri": "https://localhost:8080/",
          "height": 457
        },
        "outputId": "d99d2a66-febf-4992-986e-aa8d9f713789"
      },
      "cell_type": "code",
      "source": [
        "plot_metrics(history.history['loss'], history.history['val_loss'])"
      ],
      "execution_count": 0,
      "outputs": [
        {
          "output_type": "display_data",
          "data": {
            "image/png": "[encoded data removed]",
            "text/plain": [
              "<matplotlib.figure.Figure at 0x7fda4c033be0>"
            ]
          },
          "metadata": {
            "tags": []
          }
        }
      ]
    },
    {
      "metadata": {
        "id": "Q_sn-jJAgfTQ",
        "colab_type": "code",
        "colab": {}
      },
      "cell_type": "code",
      "source": [
        "predictions = model.predict(test)\n",
        "\n",
        "submission = pd.DataFrame({\"fullVisitorId\":test_ids})\n",
        "predictions[predictions<0] = 0\n",
        "submission[\"PredictedLogRevenue\"] = predictions\n",
        "# submission[\"PredictedLogRevenue\"] = np.expm1(predictions)\n",
        "submission = submission.groupby(\"fullVisitorId\")[\"PredictedLogRevenue\"].sum().reset_index()\n",
        "submission.columns = [\"fullVisitorId\", \"PredictedLogRevenue\"]\n",
        "# submission[\"PredictedLogRevenue\"] = np.log1p(submission[\"PredictedLogRevenue\"])\n",
        "submission[\"PredictedLogRevenue\"] = submission[\"PredictedLogRevenue\"]\n",
        "submission.to_csv(\"submission.csv\", index=False)"
      ],
      "execution_count": 0,
      "outputs": []
    },
    {
      "metadata": {
        "id": "poQY8KrhgfTT",
        "colab_type": "code",
        "colab": {}
      },
      "cell_type": "code",
      "source": [
        "submission.head(10)"
      ],
      "execution_count": 0,
      "outputs": []
    },
    {
      "metadata": {
        "id": "S1Lj6wAPmT8j",
        "colab_type": "code",
        "colab": {}
      },
      "cell_type": "code",
      "source": [
        ""
      ],
      "execution_count": 0,
      "outputs": []
    }
  ]
}